{
 "cells": [
  {
   "cell_type": "markdown",
   "metadata": {},
   "source": [
    "### Очищення\n",
    "\n",
    "Ідеальних даних не буває. У ході будь-яких експериментальних досліджень, виходять набори даних з некоректними або відсутніми значеннями.\n",
    "\n",
    "Бібліотека pandas надає різноманітні методи для обробки подібних відсутніх значень, включаючи функції для видалення або заміни некоректних точок даних на середні значення або значення за замовчуванням"
   ]
  },
  {
   "cell_type": "markdown",
   "metadata": {},
   "source": [
    "**dropna** \n",
    "\n",
    "повертає новий об'єкт DataFrame з рядками, що містять лише ненульові дані:"
   ]
  },
  {
   "cell_type": "code",
   "execution_count": 2,
   "metadata": {},
   "outputs": [],
   "source": [
    "import numpy as np\n",
    "import pandas as pd"
   ]
  },
  {
   "cell_type": "code",
   "execution_count": 6,
   "metadata": {},
   "outputs": [
    {
     "name": "stdout",
     "output_type": "stream",
     "text": [
      "   0    1    2\n",
      "0  1  2.0  3.0\n",
      "1  4  NaN  6.0\n",
      "2  7  NaN  NaN\n",
      "Cleaned:\n",
      "   0    1    2\n",
      "0  1  2.0  3.0\n"
     ]
    }
   ],
   "source": [
    "data = pd.DataFrame([[1, 2, 3], [4, np.nan, 6], [7, np.nan, np.nan]])\n",
    "\n",
    "print(data)\n",
    "\n",
    "data = data.dropna()\n",
    "print(\"Cleaned:\")\n",
    "print(data)"
   ]
  },
  {
   "cell_type": "markdown",
   "metadata": {},
   "source": [
    "Можливо відкинути лише рядки (або стовпці), що складаються повністю зі значень **NaN**. У цьому випадку в метод ***dropna*** передається аргумент *how='all'* замість *how='any'*, що використовується за замовчуванням."
   ]
  },
  {
   "cell_type": "markdown",
   "metadata": {},
   "source": [
    "Якщо необхідно замінити, а не відкинути дані, ми знаємо, що можна використовувати метод ***fillna***. Наприклад, для заміни відсутніх даних у стовпцях середніми значеннями за цими стовпцями:"
   ]
  },
  {
   "cell_type": "code",
   "execution_count": 8,
   "metadata": {},
   "outputs": [
    {
     "name": "stdout",
     "output_type": "stream",
     "text": [
      "   0    1    2\n",
      "0  1  2.0  3.0\n",
      "1  4  2.0  6.0\n",
      "2  7  2.0  NaN\n"
     ]
    }
   ],
   "source": [
    "data = pd.DataFrame([[1, 2, 3], [4, np.nan, 6], [7, np.nan, np.nan]])\n",
    "\n",
    "data = data.fillna({0: data[0].mean(), 1: data[1].mean(), 2: data[2].mean()})\n",
    "\n",
    "print(data)"
   ]
  },
  {
   "cell_type": "markdown",
   "metadata": {},
   "source": [
    "Якщо необхідно ***замінювати конкретні значення***, а не NaN існує схожий метод **replace** (https://pandas.pydata.org/docs/reference/api/pandas.DataFrame.replace.html)"
   ]
  },
  {
   "cell_type": "markdown",
   "metadata": {},
   "source": [
    "Для **видалення дублюючих** даних можна використовувати метод **drop_duplicates**"
   ]
  },
  {
   "cell_type": "code",
   "execution_count": 10,
   "metadata": {},
   "outputs": [
    {
     "name": "stdout",
     "output_type": "stream",
     "text": [
      "      name    country  age\n",
      "0  Michael     Canada   25\n",
      "1    Steve        USA   32\n",
      "2     Liza  Australia   19\n",
      "3     Jhon    Denmark   23\n",
      "4     Liza    Austria   19\n",
      "5     Jhon      Japan   23\n",
      "No dublicates:\n",
      "      name    country  age\n",
      "0  Michael     Canada   25\n",
      "1    Steve        USA   32\n",
      "2     Liza  Australia   19\n",
      "3     Jhon    Denmark   23\n",
      "4     Liza    Austria   19\n",
      "5     Jhon      Japan   23\n"
     ]
    }
   ],
   "source": [
    "data = {\n",
    "    \"name\": [\"Michael\", \"Steve\", \"Liza\", \"Jhon\", \"Liza\", \"Jhon\"],\n",
    "    \"country\": [\"Canada\", \"USA\", \"Australia\", \"Denmark\", \"Australia\", \"Denmark\"],\n",
    "    \"age\": [25, 32, 19, 23, 19, 23]\n",
    "}\n",
    "\n",
    "employees = pd.DataFrame(data)\n",
    "print(employees)\n",
    "employees = employees.drop_duplicates()\n",
    "print(\"No dublicates:\")\n",
    "print(employees)"
   ]
  }
 ],
 "metadata": {
  "kernelspec": {
   "display_name": "Python 3",
   "language": "python",
   "name": "python3"
  },
  "language_info": {
   "codemirror_mode": {
    "name": "ipython",
    "version": 3
   },
   "file_extension": ".py",
   "mimetype": "text/x-python",
   "name": "python",
   "nbconvert_exporter": "python",
   "pygments_lexer": "ipython3",
   "version": "3.11.4"
  }
 },
 "nbformat": 4,
 "nbformat_minor": 2
}
