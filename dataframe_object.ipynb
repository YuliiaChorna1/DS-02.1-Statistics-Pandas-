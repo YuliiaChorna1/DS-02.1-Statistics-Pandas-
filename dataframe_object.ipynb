{
 "cells": [
  {
   "cell_type": "markdown",
   "metadata": {},
   "source": [
    "### DataFrame\n",
    "\n",
    "об'єкт DataFrame - ця двовимірна таблиця даних"
   ]
  },
  {
   "cell_type": "code",
   "execution_count": 1,
   "metadata": {},
   "outputs": [
    {
     "name": "stdout",
     "output_type": "stream",
     "text": [
      "            name                          email           phone  favorite\n",
      "1  Allen Raymond      nulla.ante@vestibul.co.uk  (992) 914-3792     False\n",
      "2    Chaim Lewis            dui.in@egetlacus.ca  (294) 840-6685     False\n",
      "3   Kennedy Lane  mattis.Cras@nonenimMauris.net  (542) 451-7038      True\n",
      "4     Wylie Pope              est@utquamvel.net  (692) 802-2949     False\n",
      "5  Cyrus Jackson         nibh@semsempererat.com  (501) 472-5218      True\n"
     ]
    }
   ],
   "source": [
    "import pandas as pd\n",
    "\n",
    "contacts = pd.DataFrame(\n",
    "    {\n",
    "        \"name\": [\n",
    "            \"Allen Raymond\",\n",
    "            \"Chaim Lewis\",\n",
    "            \"Kennedy Lane\",\n",
    "            \"Wylie Pope\",\n",
    "            \"Cyrus Jackson\",\n",
    "        ],\n",
    "        \"email\": [\n",
    "            \"nulla.ante@vestibul.co.uk\",\n",
    "            \"dui.in@egetlacus.ca\",\n",
    "            \"mattis.Cras@nonenimMauris.net\",\n",
    "            \"est@utquamvel.net\",\n",
    "            \"nibh@semsempererat.com\",\n",
    "        ],\n",
    "        \"phone\": [\n",
    "            \"(992) 914-3792\",\n",
    "            \"(294) 840-6685\",\n",
    "            \"(542) 451-7038\",\n",
    "            \"(692) 802-2949\",\n",
    "            \"(501) 472-5218\",\n",
    "        ],\n",
    "        \"favorite\": [False, False, True, False, True],\n",
    "    },\n",
    "    index=[1, 2, 3, 4, 5],\n",
    ")\n",
    "\n",
    "print(contacts)"
   ]
  },
  {
   "cell_type": "markdown",
   "metadata": {},
   "source": [
    "Вибір стовпця:"
   ]
  },
  {
   "cell_type": "code",
   "execution_count": 2,
   "metadata": {},
   "outputs": [
    {
     "name": "stdout",
     "output_type": "stream",
     "text": [
      "1    Allen Raymond\n",
      "2      Chaim Lewis\n",
      "3     Kennedy Lane\n",
      "4       Wylie Pope\n",
      "5    Cyrus Jackson\n",
      "Name: name, dtype: object\n"
     ]
    }
   ],
   "source": [
    "print(contacts[\"name\"])"
   ]
  },
  {
   "cell_type": "markdown",
   "metadata": {},
   "source": [
    "Вибір рядка за міткою:"
   ]
  },
  {
   "cell_type": "code",
   "execution_count": 8,
   "metadata": {},
   "outputs": [
    {
     "name": "stdout",
     "output_type": "stream",
     "text": [
      "name                    Allen Raymond\n",
      "email       nulla.ante@vestibul.co.uk\n",
      "phone                  (992) 914-3792\n",
      "favorite                        False\n",
      "Name: 1, dtype: object\n"
     ]
    }
   ],
   "source": [
    "print(contacts.loc[1])"
   ]
  },
  {
   "cell_type": "markdown",
   "metadata": {},
   "source": [
    "Вибір рядка за індексом:"
   ]
  },
  {
   "cell_type": "code",
   "execution_count": 9,
   "metadata": {},
   "outputs": [
    {
     "name": "stdout",
     "output_type": "stream",
     "text": [
      "name                Chaim Lewis\n",
      "email       dui.in@egetlacus.ca\n",
      "phone            (294) 840-6685\n",
      "favorite                  False\n",
      "Name: 2, dtype: object\n"
     ]
    }
   ],
   "source": [
    "print(contacts.iloc[1])"
   ]
  },
  {
   "cell_type": "markdown",
   "metadata": {},
   "source": [
    "Зріз за рядками:"
   ]
  },
  {
   "cell_type": "code",
   "execution_count": 10,
   "metadata": {},
   "outputs": [
    {
     "name": "stdout",
     "output_type": "stream",
     "text": [
      "            name                      email           phone  favorite\n",
      "1  Allen Raymond  nulla.ante@vestibul.co.uk  (992) 914-3792     False\n",
      "2    Chaim Lewis        dui.in@egetlacus.ca  (294) 840-6685     False\n"
     ]
    }
   ],
   "source": [
    "print(contacts[0:2])"
   ]
  },
  {
   "cell_type": "markdown",
   "metadata": {},
   "source": [
    "Вибір рядків, які відповідають умові:"
   ]
  },
  {
   "cell_type": "code",
   "execution_count": 12,
   "metadata": {},
   "outputs": [
    {
     "name": "stdout",
     "output_type": "stream",
     "text": [
      "            name                          email           phone  favorite\n",
      "3   Kennedy Lane  mattis.Cras@nonenimMauris.net  (542) 451-7038      True\n",
      "5  Cyrus Jackson         nibh@semsempererat.com  (501) 472-5218      True\n"
     ]
    }
   ],
   "source": [
    "print(contacts[contacts[\"favorite\"]])"
   ]
  }
 ],
 "metadata": {
  "kernelspec": {
   "display_name": "Python 3",
   "language": "python",
   "name": "python3"
  },
  "language_info": {
   "codemirror_mode": {
    "name": "ipython",
    "version": 3
   },
   "file_extension": ".py",
   "mimetype": "text/x-python",
   "name": "python",
   "nbconvert_exporter": "python",
   "pygments_lexer": "ipython3",
   "version": "3.11.4"
  }
 },
 "nbformat": 4,
 "nbformat_minor": 2
}
