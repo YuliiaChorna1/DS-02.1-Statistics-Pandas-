{
 "cells": [
  {
   "cell_type": "markdown",
   "metadata": {},
   "source": [
    "### Об'єднання\n",
    "\n",
    "**concat**\n",
    "\n",
    "Основні параметри:\n",
    "\n",
    "* *objs* — структура Series або DataFrame.\n",
    "* *axis* — значення 0 об'єднання здійснюється по рядках, 1 - по стовпцях.\n",
    "* *join* — значення за замовчуванням: '*outer*'. Якщо 'outer', підсумкова структура буде результатом об'єднання (**логічне АБО**) переданих структур, '*inner*' - підсумкова структура буде результатом перетину (**логічне І**) переданих структур.\n",
    "* *ignore_index* — логічний вираз має значення за замовчуванням False. Якщо значення True, то не використовується значення індексу в процесі об'єднання, а якщо False - використовується."
   ]
  },
  {
   "cell_type": "code",
   "execution_count": 1,
   "metadata": {},
   "outputs": [],
   "source": [
    "import pandas as pd"
   ]
  },
  {
   "cell_type": "code",
   "execution_count": 2,
   "metadata": {},
   "outputs": [
    {
     "name": "stdout",
     "output_type": "stream",
     "text": [
      "      name    country  age\n",
      "1  Michael     Canada   25\n",
      "2     John        USA   32\n",
      "3     Liza  Australia   19\n",
      "4     Jhon    Denmark   23\n"
     ]
    }
   ],
   "source": [
    "data1 = {\n",
    "    \"name\": {\"1\": \"Michael\", \"2\": \"John\"},\n",
    "    \"country\": {\"1\": \"Canada\", \"2\": \"USA\"},\n",
    "    \"age\": {\"1\": 25, \"2\": 32}\n",
    "}\n",
    "\n",
    "employees1 = pd.DataFrame(data1)\n",
    "\n",
    "data2 = {\n",
    "    \"name\": {\"3\": \"Liza\", \"4\": \"Jhon\"},\n",
    "    \"country\": {\"3\": \"Australia\", \"4\": \"Denmark\"},\n",
    "    \"age\": {\"3\": 19, \"4\": 23}\n",
    "}\n",
    "\n",
    "employees2 = pd.DataFrame(data2)\n",
    "\n",
    "employees = pd.concat([employees1, employees2])\n",
    "\n",
    "print(employees)"
   ]
  },
  {
   "cell_type": "markdown",
   "metadata": {},
   "source": [
    "Можна об'єднати **по стовпчикам**:"
   ]
  },
  {
   "cell_type": "code",
   "execution_count": 3,
   "metadata": {},
   "outputs": [
    {
     "name": "stdout",
     "output_type": "stream",
     "text": [
      "      name    country  age\n",
      "1  Michael     Canada   25\n",
      "2     John        USA   32\n",
      "3     Liza  Australia   19\n",
      "4     Jhon    Denmark   23\n"
     ]
    }
   ],
   "source": [
    "data1 = {\n",
    "    \"name\": {\"1\": \"Michael\", \"2\": \"John\", \"3\": \"Liza\", \"4\": \"Jhon\"},\n",
    "    \"country\": {\"1\": \"Canada\", \"2\": \"USA\", \"3\": \"Australia\", \"4\": \"Denmark\"}\n",
    "}\n",
    "employees1 = pd.DataFrame(data1)\n",
    "\n",
    "data2 = {\n",
    "    \"age\": {\"1\": 25, \"2\": 32, \"3\": 19, \"4\": 23}\n",
    "}\n",
    "employees2 = pd.DataFrame(data2)\n",
    "\n",
    "employees = pd.concat([employees1, employees2], axis=1)\n",
    "\n",
    "print(employees)"
   ]
  },
  {
   "cell_type": "markdown",
   "metadata": {},
   "source": [
    "Також до складу pandas входить метод ***merge*** для об'єднання даних, що використовує підхід Database-style."
   ]
  }
 ],
 "metadata": {
  "kernelspec": {
   "display_name": "Python 3",
   "language": "python",
   "name": "python3"
  },
  "language_info": {
   "codemirror_mode": {
    "name": "ipython",
    "version": 3
   },
   "file_extension": ".py",
   "mimetype": "text/x-python",
   "name": "python",
   "nbconvert_exporter": "python",
   "pygments_lexer": "ipython3",
   "version": "3.11.4"
  }
 },
 "nbformat": 4,
 "nbformat_minor": 2
}
