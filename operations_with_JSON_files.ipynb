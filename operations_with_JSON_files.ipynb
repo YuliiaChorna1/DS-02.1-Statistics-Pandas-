{
 "cells": [
  {
   "cell_type": "markdown",
   "metadata": {},
   "source": [
    "### Читання JSON \n",
    "\n",
    "**read_json** \n",
    "\n",
    "можливі аргументи:\n",
    "* *path_or_buf* — шлях до файлу на диску, URL або JSON рядок, вміст якого - коректний JSON.\n",
    "* *orient* — орієнтація, значення за замовчуванням None\n",
    "* *typ* — Тип структури pandas: 'series' - це Series, 'frame' - DataFrame. За замовчуванням значення frame"
   ]
  },
  {
   "cell_type": "markdown",
   "metadata": {},
   "source": [
    "Параметр ***orient*** відповідає, щоб JSON, що завантажується, міг бути перетворений на структуру даних pandas, а значить він повинен мати певний вигляд. \n",
    "\n",
    "Але необхідно знати, що залежно від значення *typ*, ми можемо використовувати певні значення orient. Якщо **typ='series'**, то orient може бути *split, records або index*, якщо **typ='frame'**, то orient розширює свої значення до списку: *split, records, index, columns, values*.\n",
    "\n",
    "Можливі значення **orient** та відповідний їм JSON:"
   ]
  },
  {
   "cell_type": "markdown",
   "metadata": {},
   "source": [
    "* *split* - {dict like}\n",
    "    - це словник із наступною структурою: {{index -> [index], columns -> [columns], data -> [values]}}"
   ]
  },
  {
   "cell_type": "code",
   "execution_count": null,
   "metadata": {},
   "outputs": [],
   "source": [
    "{\n",
    "  \"columns\": [\"name\", \"country\"],\n",
    "  \"index\": [1, 2, 3],\n",
    "  \"data\": [\n",
    "    [\"Michael\", \"Canada\"],\n",
    "    [\"John\", \"USA\"],\n",
    "    [\"Liza\", \"Australia\"]\n",
    "  ]\n",
    "}"
   ]
  },
  {
   "cell_type": "markdown",
   "metadata": {},
   "source": [
    "* *records* - [list like]\n",
    "    - це словник із наступною структурою: [{{column -> value}}, ... , {{column -> value}}]"
   ]
  },
  {
   "cell_type": "code",
   "execution_count": null,
   "metadata": {},
   "outputs": [],
   "source": [
    "[\n",
    "  {\n",
    "    \"name\": \"Michael\",\n",
    "    \"country\": \"Canada\"\n",
    "  },\n",
    "  {\n",
    "    \"name\": \"John\",\n",
    "    \"country\": \"USA\"\n",
    "  },\n",
    "  {\n",
    "    \"name\": \"Liza\",\n",
    "    \"country\": \"Australia\"\n",
    "  }\n",
    "]"
   ]
  },
  {
   "cell_type": "markdown",
   "metadata": {},
   "source": [
    "* *index* - {dict like}\n",
    "    - це словник із наступною структурою: {{index -> {{column -> value}}}}"
   ]
  },
  {
   "cell_type": "code",
   "execution_count": null,
   "metadata": {},
   "outputs": [],
   "source": [
    "{\n",
    "  \"1\": {\n",
    "    \"name\": \"Michael\",\n",
    "    \"country\": \"Canada\"\n",
    "  },\n",
    "  \"2\": {\n",
    "    \"name\": \"John\",\n",
    "    \"country\": \"USA\"\n",
    "  },\n",
    "  \"3\": {\n",
    "    \"name\": \"Liza\",\n",
    "    \"country\": \"Australia\"\n",
    "  }\n",
    "}"
   ]
  },
  {
   "cell_type": "markdown",
   "metadata": {},
   "source": [
    "* *columns* - {dict like}\n",
    "     - це словник із наступною структурою: {{column -> {{index -> value}}}}"
   ]
  },
  {
   "cell_type": "code",
   "execution_count": null,
   "metadata": {},
   "outputs": [],
   "source": [
    "{\n",
    "  \"name\": { \"1\": \"Michael\", \"2\": \"John\", \"3\": \"Liza\" },\n",
    "  \"country\": { \"1\": \"Canada\", \"2\": \"USA\", \"3\": \"Australia\" }\n",
    "}"
   ]
  },
  {
   "cell_type": "markdown",
   "metadata": {},
   "source": [
    "* *values* - just the values array\n",
    "    - це словник із наступною структурою:"
   ]
  },
  {
   "cell_type": "code",
   "execution_count": null,
   "metadata": {},
   "outputs": [],
   "source": [
    "[\n",
    "  [\"Michael\", \"Canada\"],\n",
    "  [\"John\", \"USA\"],\n",
    "  [\"Liza\", \"Australia\"]\n",
    "]"
   ]
  },
  {
   "cell_type": "markdown",
   "metadata": {},
   "source": [
    "* *table* - {dict like}\n",
    "    - це словник із наступною структурою: {{'schema': {{schema}}, 'data': {{data}}}}"
   ]
  },
  {
   "cell_type": "code",
   "execution_count": 12,
   "metadata": {},
   "outputs": [],
   "source": [
    "# немає файла з такою структурою у мене"
   ]
  },
  {
   "cell_type": "markdown",
   "metadata": {},
   "source": [
    "**виведення всіх прикладів буде однаковим, код відрізнятиметься лише параметрами методу orient**"
   ]
  },
  {
   "cell_type": "code",
   "execution_count": 2,
   "metadata": {},
   "outputs": [],
   "source": [
    "import pandas as pd"
   ]
  },
  {
   "cell_type": "code",
   "execution_count": 3,
   "metadata": {},
   "outputs": [
    {
     "name": "stdout",
     "output_type": "stream",
     "text": [
      "      name    country\n",
      "1  Michael     Canada\n",
      "2     John        USA\n",
      "3     Liza  Australia\n"
     ]
    }
   ],
   "source": [
    "employees = pd.read_json(\"split.json\", orient=\"split\")\n",
    "\n",
    "print(employees)"
   ]
  },
  {
   "cell_type": "code",
   "execution_count": 9,
   "metadata": {},
   "outputs": [
    {
     "name": "stdout",
     "output_type": "stream",
     "text": [
      "      name    country\n",
      "0  Michael     Canada\n",
      "1     John        USA\n",
      "2     Liza  Australia\n"
     ]
    }
   ],
   "source": [
    "employees = pd.read_json(\"records.json\", orient=\"records\")\n",
    "\n",
    "print(employees)"
   ]
  },
  {
   "cell_type": "code",
   "execution_count": 10,
   "metadata": {},
   "outputs": [
    {
     "name": "stdout",
     "output_type": "stream",
     "text": [
      "      name    country\n",
      "1  Michael     Canada\n",
      "2     John        USA\n",
      "3     Liza  Australia\n"
     ]
    }
   ],
   "source": [
    "employees = pd.read_json(\"index.json\", orient=\"index\")\n",
    "\n",
    "print(employees)"
   ]
  },
  {
   "cell_type": "code",
   "execution_count": 8,
   "metadata": {},
   "outputs": [
    {
     "name": "stdout",
     "output_type": "stream",
     "text": [
      "      name    country\n",
      "1  Michael     Canada\n",
      "2     John        USA\n",
      "3     Liza  Australia\n"
     ]
    }
   ],
   "source": [
    "employees = pd.read_json(\"columns.json\", orient=\"columns\")\n",
    "\n",
    "print(employees)"
   ]
  },
  {
   "cell_type": "code",
   "execution_count": 11,
   "metadata": {},
   "outputs": [
    {
     "name": "stdout",
     "output_type": "stream",
     "text": [
      "         0          1\n",
      "0  Michael     Canada\n",
      "1     John        USA\n",
      "2     Liza  Australia\n"
     ]
    }
   ],
   "source": [
    "employees = pd.read_json(\"values.json\", orient=\"values\")\n",
    "\n",
    "print(employees)"
   ]
  },
  {
   "cell_type": "markdown",
   "metadata": {},
   "source": [
    "### Запис у JSON\n",
    "\n",
    "**to_json**\n",
    "\n",
    "При записі даних у форматі JSON необхідна зворотна операція перетворення даних"
   ]
  },
  {
   "cell_type": "code",
   "execution_count": 13,
   "metadata": {},
   "outputs": [],
   "source": [
    "data = {\n",
    "    \"name\": {\"1\": \"Michael\", \"2\": \"John\", \"3\": \"Liza\"},\n",
    "    \"country\": {\"1\": \"Canada\", \"2\": \"USA\", \"3\": \"Australia\"}\n",
    "}\n",
    "\n",
    "employees = pd.DataFrame(data)\n",
    "employees.to_json(\"employees.json\", orient=\"split\")"
   ]
  }
 ],
 "metadata": {
  "kernelspec": {
   "display_name": "Python 3",
   "language": "python",
   "name": "python3"
  },
  "language_info": {
   "codemirror_mode": {
    "name": "ipython",
    "version": 3
   },
   "file_extension": ".py",
   "mimetype": "text/x-python",
   "name": "python",
   "nbconvert_exporter": "python",
   "pygments_lexer": "ipython3",
   "version": "3.11.4"
  }
 },
 "nbformat": 4,
 "nbformat_minor": 2
}
