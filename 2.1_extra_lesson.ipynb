{
 "cells": [
  {
   "cell_type": "markdown",
   "id": "3f2c24ef",
   "metadata": {},
   "source": [
    "### Series, DataFrame\n",
    "\n",
    "### Exploratory Data Analysis"
   ]
  },
  {
   "cell_type": "code",
   "execution_count": 71,
   "id": "f9989350",
   "metadata": {},
   "outputs": [],
   "source": [
    "import pandas as pd\n",
    "import numpy as np"
   ]
  },
  {
   "cell_type": "markdown",
   "id": "04882f0b",
   "metadata": {},
   "source": [
    "#### Series"
   ]
  },
  {
   "cell_type": "code",
   "execution_count": 72,
   "id": "bf874684",
   "metadata": {},
   "outputs": [],
   "source": [
    "mydata = [\"Linear regression\", \"Logistic regression\", \"SVM\", \"PCA\"]"
   ]
  },
  {
   "cell_type": "code",
   "execution_count": 73,
   "id": "06769988",
   "metadata": {},
   "outputs": [],
   "source": [
    "myseries1 = pd.Series(mydata)"
   ]
  },
  {
   "cell_type": "code",
   "execution_count": 74,
   "id": "a76d88fc",
   "metadata": {},
   "outputs": [
    {
     "data": {
      "text/plain": [
       "0      Linear regression\n",
       "1    Logistic regression\n",
       "2                    SVM\n",
       "3                    PCA\n",
       "dtype: object"
      ]
     },
     "execution_count": 74,
     "metadata": {},
     "output_type": "execute_result"
    }
   ],
   "source": [
    "myseries1"
   ]
  },
  {
   "cell_type": "code",
   "execution_count": 75,
   "id": "0443ba77",
   "metadata": {},
   "outputs": [
    {
     "data": {
      "text/plain": [
       "pandas.core.series.Series"
      ]
     },
     "execution_count": 75,
     "metadata": {},
     "output_type": "execute_result"
    }
   ],
   "source": [
    "type(myseries1)"
   ]
  },
  {
   "cell_type": "code",
   "execution_count": 76,
   "id": "31df9df4",
   "metadata": {},
   "outputs": [
    {
     "data": {
      "text/plain": [
       "'Linear regression'"
      ]
     },
     "execution_count": 76,
     "metadata": {},
     "output_type": "execute_result"
    }
   ],
   "source": [
    "myseries1[0]"
   ]
  },
  {
   "cell_type": "code",
   "execution_count": 77,
   "id": "624f8582",
   "metadata": {},
   "outputs": [],
   "source": [
    "data = [34, 2, 5, 45]"
   ]
  },
  {
   "cell_type": "code",
   "execution_count": 78,
   "id": "a9851582",
   "metadata": {},
   "outputs": [],
   "source": [
    "myseries2 = pd.Series(data)"
   ]
  },
  {
   "cell_type": "code",
   "execution_count": 79,
   "id": "2bccfd34",
   "metadata": {},
   "outputs": [
    {
     "data": {
      "text/plain": [
       "pandas.core.series.Series"
      ]
     },
     "execution_count": 79,
     "metadata": {},
     "output_type": "execute_result"
    }
   ],
   "source": [
    "type(myseries2)"
   ]
  },
  {
   "cell_type": "markdown",
   "id": "8bf223bf",
   "metadata": {},
   "source": [
    "#### DataFrame"
   ]
  },
  {
   "cell_type": "code",
   "execution_count": 80,
   "id": "304e40e7",
   "metadata": {},
   "outputs": [],
   "source": [
    "my_dfdata = mydata = [(\"Linear regression\", 34), (\"Logistic regression\", 2), (\"SVM\", 5), (\"PCA\", 45)]"
   ]
  },
  {
   "cell_type": "code",
   "execution_count": 81,
   "id": "602463b1",
   "metadata": {},
   "outputs": [
    {
     "data": {
      "text/html": [
       "<div>\n",
       "<style scoped>\n",
       "    .dataframe tbody tr th:only-of-type {\n",
       "        vertical-align: middle;\n",
       "    }\n",
       "\n",
       "    .dataframe tbody tr th {\n",
       "        vertical-align: top;\n",
       "    }\n",
       "\n",
       "    .dataframe thead th {\n",
       "        text-align: right;\n",
       "    }\n",
       "</style>\n",
       "<table border=\"1\" class=\"dataframe\">\n",
       "  <thead>\n",
       "    <tr style=\"text-align: right;\">\n",
       "      <th></th>\n",
       "      <th>0</th>\n",
       "      <th>1</th>\n",
       "    </tr>\n",
       "  </thead>\n",
       "  <tbody>\n",
       "    <tr>\n",
       "      <th>0</th>\n",
       "      <td>Linear regression</td>\n",
       "      <td>34</td>\n",
       "    </tr>\n",
       "    <tr>\n",
       "      <th>1</th>\n",
       "      <td>Logistic regression</td>\n",
       "      <td>2</td>\n",
       "    </tr>\n",
       "    <tr>\n",
       "      <th>2</th>\n",
       "      <td>SVM</td>\n",
       "      <td>5</td>\n",
       "    </tr>\n",
       "    <tr>\n",
       "      <th>3</th>\n",
       "      <td>PCA</td>\n",
       "      <td>45</td>\n",
       "    </tr>\n",
       "  </tbody>\n",
       "</table>\n",
       "</div>"
      ],
      "text/plain": [
       "                     0   1\n",
       "0    Linear regression  34\n",
       "1  Logistic regression   2\n",
       "2                  SVM   5\n",
       "3                  PCA  45"
      ]
     },
     "execution_count": 81,
     "metadata": {},
     "output_type": "execute_result"
    }
   ],
   "source": [
    "mydf = pd.DataFrame(my_dfdata)\n",
    "mydf"
   ]
  },
  {
   "cell_type": "code",
   "execution_count": 82,
   "id": "6e9e9030",
   "metadata": {},
   "outputs": [
    {
     "data": {
      "text/html": [
       "<div>\n",
       "<style scoped>\n",
       "    .dataframe tbody tr th:only-of-type {\n",
       "        vertical-align: middle;\n",
       "    }\n",
       "\n",
       "    .dataframe tbody tr th {\n",
       "        vertical-align: top;\n",
       "    }\n",
       "\n",
       "    .dataframe thead th {\n",
       "        text-align: right;\n",
       "    }\n",
       "</style>\n",
       "<table border=\"1\" class=\"dataframe\">\n",
       "  <thead>\n",
       "    <tr style=\"text-align: right;\">\n",
       "      <th></th>\n",
       "      <th>Algo_name</th>\n",
       "      <th>Number</th>\n",
       "    </tr>\n",
       "  </thead>\n",
       "  <tbody>\n",
       "    <tr>\n",
       "      <th>0</th>\n",
       "      <td>Linear regression</td>\n",
       "      <td>34</td>\n",
       "    </tr>\n",
       "    <tr>\n",
       "      <th>1</th>\n",
       "      <td>Logistic regression</td>\n",
       "      <td>2</td>\n",
       "    </tr>\n",
       "    <tr>\n",
       "      <th>2</th>\n",
       "      <td>SVM</td>\n",
       "      <td>5</td>\n",
       "    </tr>\n",
       "    <tr>\n",
       "      <th>3</th>\n",
       "      <td>PCA</td>\n",
       "      <td>45</td>\n",
       "    </tr>\n",
       "  </tbody>\n",
       "</table>\n",
       "</div>"
      ],
      "text/plain": [
       "             Algo_name  Number\n",
       "0    Linear regression      34\n",
       "1  Logistic regression       2\n",
       "2                  SVM       5\n",
       "3                  PCA      45"
      ]
     },
     "execution_count": 82,
     "metadata": {},
     "output_type": "execute_result"
    }
   ],
   "source": [
    "mydf = pd.DataFrame(my_dfdata, columns = [\"Algo_name\", \"Number\"])\n",
    "mydf"
   ]
  },
  {
   "cell_type": "code",
   "execution_count": 83,
   "id": "09925652",
   "metadata": {},
   "outputs": [
    {
     "data": {
      "text/plain": [
       "0      Linear regression\n",
       "1    Logistic regression\n",
       "2                    SVM\n",
       "3                    PCA\n",
       "Name: Algo_name, dtype: object"
      ]
     },
     "execution_count": 83,
     "metadata": {},
     "output_type": "execute_result"
    }
   ],
   "source": [
    "mydf[\"Algo_name\"]"
   ]
  },
  {
   "cell_type": "code",
   "execution_count": 84,
   "id": "98552876",
   "metadata": {},
   "outputs": [
    {
     "data": {
      "text/plain": [
       "pandas.core.series.Series"
      ]
     },
     "execution_count": 84,
     "metadata": {},
     "output_type": "execute_result"
    }
   ],
   "source": [
    "type(mydf[\"Algo_name\"])"
   ]
  },
  {
   "cell_type": "code",
   "execution_count": 85,
   "id": "5a922f81",
   "metadata": {},
   "outputs": [
    {
     "data": {
      "text/plain": [
       "0      Linear regression\n",
       "1    Logistic regression\n",
       "2                    SVM\n",
       "3                    PCA\n",
       "Name: Algo_name, dtype: object"
      ]
     },
     "execution_count": 85,
     "metadata": {},
     "output_type": "execute_result"
    }
   ],
   "source": [
    "mydf.Algo_name"
   ]
  },
  {
   "cell_type": "code",
   "execution_count": 86,
   "id": "5a0fc56d",
   "metadata": {},
   "outputs": [
    {
     "data": {
      "text/plain": [
       "Algo_name    Linear regression\n",
       "Number                      34\n",
       "Name: 0, dtype: object"
      ]
     },
     "execution_count": 86,
     "metadata": {},
     "output_type": "execute_result"
    }
   ],
   "source": [
    "mydf.loc[0]"
   ]
  },
  {
   "cell_type": "markdown",
   "id": "f8f7c924",
   "metadata": {},
   "source": [
    "#### Read CSV"
   ]
  },
  {
   "cell_type": "code",
   "execution_count": 87,
   "id": "78fd70e9",
   "metadata": {},
   "outputs": [
    {
     "data": {
      "text/html": [
       "<div>\n",
       "<style scoped>\n",
       "    .dataframe tbody tr th:only-of-type {\n",
       "        vertical-align: middle;\n",
       "    }\n",
       "\n",
       "    .dataframe tbody tr th {\n",
       "        vertical-align: top;\n",
       "    }\n",
       "\n",
       "    .dataframe thead th {\n",
       "        text-align: right;\n",
       "    }\n",
       "</style>\n",
       "<table border=\"1\" class=\"dataframe\">\n",
       "  <thead>\n",
       "    <tr style=\"text-align: right;\">\n",
       "      <th></th>\n",
       "      <th>name</th>\n",
       "      <th>email</th>\n",
       "      <th>phone</th>\n",
       "      <th>favorite</th>\n",
       "    </tr>\n",
       "  </thead>\n",
       "  <tbody>\n",
       "    <tr>\n",
       "      <th>0</th>\n",
       "      <td>Allen Raymond</td>\n",
       "      <td>nulla.ante@vestibul.co.uk</td>\n",
       "      <td>(992) 914-3792</td>\n",
       "      <td>False</td>\n",
       "    </tr>\n",
       "    <tr>\n",
       "      <th>1</th>\n",
       "      <td>Chaim Lewis</td>\n",
       "      <td>dui.in@egetlacus.ca</td>\n",
       "      <td>(294) 840-6685</td>\n",
       "      <td>False</td>\n",
       "    </tr>\n",
       "    <tr>\n",
       "      <th>2</th>\n",
       "      <td>Kennedy Lane</td>\n",
       "      <td>mattis.Cras@nonenimMauris.net</td>\n",
       "      <td>(542) 451-7038</td>\n",
       "      <td>True</td>\n",
       "    </tr>\n",
       "    <tr>\n",
       "      <th>3</th>\n",
       "      <td>Wylie Pope</td>\n",
       "      <td>est@utquamvel.net</td>\n",
       "      <td>(692) 802-2949</td>\n",
       "      <td>False</td>\n",
       "    </tr>\n",
       "    <tr>\n",
       "      <th>4</th>\n",
       "      <td>Cyrus Jackson</td>\n",
       "      <td>nibh@semsempererat.com</td>\n",
       "      <td>(501) 472-5218</td>\n",
       "      <td>True</td>\n",
       "    </tr>\n",
       "  </tbody>\n",
       "</table>\n",
       "</div>"
      ],
      "text/plain": [
       "            name                          email           phone  favorite\n",
       "0  Allen Raymond      nulla.ante@vestibul.co.uk  (992) 914-3792     False\n",
       "1    Chaim Lewis            dui.in@egetlacus.ca  (294) 840-6685     False\n",
       "2   Kennedy Lane  mattis.Cras@nonenimMauris.net  (542) 451-7038      True\n",
       "3     Wylie Pope              est@utquamvel.net  (692) 802-2949     False\n",
       "4  Cyrus Jackson         nibh@semsempererat.com  (501) 472-5218      True"
      ]
     },
     "execution_count": 87,
     "metadata": {},
     "output_type": "execute_result"
    }
   ],
   "source": [
    "df = pd.read_csv('data.csv')\n",
    "df"
   ]
  },
  {
   "cell_type": "code",
   "execution_count": 88,
   "id": "e883d9a3",
   "metadata": {},
   "outputs": [
    {
     "data": {
      "text/html": [
       "<div>\n",
       "<style scoped>\n",
       "    .dataframe tbody tr th:only-of-type {\n",
       "        vertical-align: middle;\n",
       "    }\n",
       "\n",
       "    .dataframe tbody tr th {\n",
       "        vertical-align: top;\n",
       "    }\n",
       "\n",
       "    .dataframe thead th {\n",
       "        text-align: right;\n",
       "    }\n",
       "</style>\n",
       "<table border=\"1\" class=\"dataframe\">\n",
       "  <thead>\n",
       "    <tr style=\"text-align: right;\">\n",
       "      <th></th>\n",
       "      <th>name</th>\n",
       "      <th>email</th>\n",
       "      <th>phone</th>\n",
       "      <th>favorite</th>\n",
       "    </tr>\n",
       "  </thead>\n",
       "  <tbody>\n",
       "    <tr>\n",
       "      <th>0</th>\n",
       "      <td>Allen Raymond</td>\n",
       "      <td>nulla.ante@vestibul.co.uk</td>\n",
       "      <td>(992) 914-3792</td>\n",
       "      <td>False</td>\n",
       "    </tr>\n",
       "    <tr>\n",
       "      <th>1</th>\n",
       "      <td>Chaim Lewis</td>\n",
       "      <td>dui.in@egetlacus.ca</td>\n",
       "      <td>(294) 840-6685</td>\n",
       "      <td>False</td>\n",
       "    </tr>\n",
       "  </tbody>\n",
       "</table>\n",
       "</div>"
      ],
      "text/plain": [
       "            name                      email           phone  favorite\n",
       "0  Allen Raymond  nulla.ante@vestibul.co.uk  (992) 914-3792     False\n",
       "1    Chaim Lewis        dui.in@egetlacus.ca  (294) 840-6685     False"
      ]
     },
     "execution_count": 88,
     "metadata": {},
     "output_type": "execute_result"
    }
   ],
   "source": [
    "df.head(2)"
   ]
  },
  {
   "cell_type": "code",
   "execution_count": 89,
   "id": "fe401b2a",
   "metadata": {},
   "outputs": [
    {
     "data": {
      "text/html": [
       "<div>\n",
       "<style scoped>\n",
       "    .dataframe tbody tr th:only-of-type {\n",
       "        vertical-align: middle;\n",
       "    }\n",
       "\n",
       "    .dataframe tbody tr th {\n",
       "        vertical-align: top;\n",
       "    }\n",
       "\n",
       "    .dataframe thead th {\n",
       "        text-align: right;\n",
       "    }\n",
       "</style>\n",
       "<table border=\"1\" class=\"dataframe\">\n",
       "  <thead>\n",
       "    <tr style=\"text-align: right;\">\n",
       "      <th></th>\n",
       "      <th>name</th>\n",
       "      <th>email</th>\n",
       "      <th>phone</th>\n",
       "      <th>favorite</th>\n",
       "    </tr>\n",
       "  </thead>\n",
       "  <tbody>\n",
       "    <tr>\n",
       "      <th>3</th>\n",
       "      <td>Wylie Pope</td>\n",
       "      <td>est@utquamvel.net</td>\n",
       "      <td>(692) 802-2949</td>\n",
       "      <td>False</td>\n",
       "    </tr>\n",
       "    <tr>\n",
       "      <th>4</th>\n",
       "      <td>Cyrus Jackson</td>\n",
       "      <td>nibh@semsempererat.com</td>\n",
       "      <td>(501) 472-5218</td>\n",
       "      <td>True</td>\n",
       "    </tr>\n",
       "  </tbody>\n",
       "</table>\n",
       "</div>"
      ],
      "text/plain": [
       "            name                   email           phone  favorite\n",
       "3     Wylie Pope       est@utquamvel.net  (692) 802-2949     False\n",
       "4  Cyrus Jackson  nibh@semsempererat.com  (501) 472-5218      True"
      ]
     },
     "execution_count": 89,
     "metadata": {},
     "output_type": "execute_result"
    }
   ],
   "source": [
    "df.tail(2)"
   ]
  },
  {
   "cell_type": "code",
   "execution_count": 90,
   "id": "9a78173e",
   "metadata": {},
   "outputs": [
    {
     "data": {
      "text/plain": [
       "(5, 4)"
      ]
     },
     "execution_count": 90,
     "metadata": {},
     "output_type": "execute_result"
    }
   ],
   "source": [
    "df.shape"
   ]
  },
  {
   "cell_type": "code",
   "execution_count": 91,
   "id": "aaf7d3c1",
   "metadata": {},
   "outputs": [
    {
     "data": {
      "text/plain": [
       "Index(['name', 'email', 'phone', 'favorite'], dtype='object')"
      ]
     },
     "execution_count": 91,
     "metadata": {},
     "output_type": "execute_result"
    }
   ],
   "source": [
    "df.columns"
   ]
  },
  {
   "cell_type": "code",
   "execution_count": 92,
   "id": "9f5d2d7d",
   "metadata": {},
   "outputs": [],
   "source": [
    "new_df = df[['name', 'phone', 'favorite']]"
   ]
  },
  {
   "cell_type": "code",
   "execution_count": 93,
   "id": "f98fdb94",
   "metadata": {},
   "outputs": [
    {
     "data": {
      "text/html": [
       "<div>\n",
       "<style scoped>\n",
       "    .dataframe tbody tr th:only-of-type {\n",
       "        vertical-align: middle;\n",
       "    }\n",
       "\n",
       "    .dataframe tbody tr th {\n",
       "        vertical-align: top;\n",
       "    }\n",
       "\n",
       "    .dataframe thead th {\n",
       "        text-align: right;\n",
       "    }\n",
       "</style>\n",
       "<table border=\"1\" class=\"dataframe\">\n",
       "  <thead>\n",
       "    <tr style=\"text-align: right;\">\n",
       "      <th></th>\n",
       "      <th>name</th>\n",
       "      <th>phone</th>\n",
       "      <th>favorite</th>\n",
       "    </tr>\n",
       "  </thead>\n",
       "  <tbody>\n",
       "    <tr>\n",
       "      <th>0</th>\n",
       "      <td>Allen Raymond</td>\n",
       "      <td>(992) 914-3792</td>\n",
       "      <td>False</td>\n",
       "    </tr>\n",
       "    <tr>\n",
       "      <th>1</th>\n",
       "      <td>Chaim Lewis</td>\n",
       "      <td>(294) 840-6685</td>\n",
       "      <td>False</td>\n",
       "    </tr>\n",
       "    <tr>\n",
       "      <th>2</th>\n",
       "      <td>Kennedy Lane</td>\n",
       "      <td>(542) 451-7038</td>\n",
       "      <td>True</td>\n",
       "    </tr>\n",
       "    <tr>\n",
       "      <th>3</th>\n",
       "      <td>Wylie Pope</td>\n",
       "      <td>(692) 802-2949</td>\n",
       "      <td>False</td>\n",
       "    </tr>\n",
       "    <tr>\n",
       "      <th>4</th>\n",
       "      <td>Cyrus Jackson</td>\n",
       "      <td>(501) 472-5218</td>\n",
       "      <td>True</td>\n",
       "    </tr>\n",
       "  </tbody>\n",
       "</table>\n",
       "</div>"
      ],
      "text/plain": [
       "            name           phone  favorite\n",
       "0  Allen Raymond  (992) 914-3792     False\n",
       "1    Chaim Lewis  (294) 840-6685     False\n",
       "2   Kennedy Lane  (542) 451-7038      True\n",
       "3     Wylie Pope  (692) 802-2949     False\n",
       "4  Cyrus Jackson  (501) 472-5218      True"
      ]
     },
     "execution_count": 93,
     "metadata": {},
     "output_type": "execute_result"
    }
   ],
   "source": [
    "new_df"
   ]
  },
  {
   "cell_type": "code",
   "execution_count": 94,
   "id": "f24f983e",
   "metadata": {},
   "outputs": [
    {
     "data": {
      "text/plain": [
       "name        object\n",
       "email       object\n",
       "phone       object\n",
       "favorite      bool\n",
       "dtype: object"
      ]
     },
     "execution_count": 94,
     "metadata": {},
     "output_type": "execute_result"
    }
   ],
   "source": [
    "df.dtypes"
   ]
  },
  {
   "cell_type": "code",
   "execution_count": 95,
   "id": "a1e5fceb",
   "metadata": {},
   "outputs": [
    {
     "data": {
      "text/html": [
       "<div>\n",
       "<style scoped>\n",
       "    .dataframe tbody tr th:only-of-type {\n",
       "        vertical-align: middle;\n",
       "    }\n",
       "\n",
       "    .dataframe tbody tr th {\n",
       "        vertical-align: top;\n",
       "    }\n",
       "\n",
       "    .dataframe thead th {\n",
       "        text-align: right;\n",
       "    }\n",
       "</style>\n",
       "<table border=\"1\" class=\"dataframe\">\n",
       "  <thead>\n",
       "    <tr style=\"text-align: right;\">\n",
       "      <th></th>\n",
       "      <th>name</th>\n",
       "      <th>email</th>\n",
       "      <th>phone</th>\n",
       "      <th>favorite</th>\n",
       "    </tr>\n",
       "  </thead>\n",
       "  <tbody>\n",
       "    <tr>\n",
       "      <th>count</th>\n",
       "      <td>5</td>\n",
       "      <td>5</td>\n",
       "      <td>5</td>\n",
       "      <td>5</td>\n",
       "    </tr>\n",
       "    <tr>\n",
       "      <th>unique</th>\n",
       "      <td>5</td>\n",
       "      <td>5</td>\n",
       "      <td>5</td>\n",
       "      <td>2</td>\n",
       "    </tr>\n",
       "    <tr>\n",
       "      <th>top</th>\n",
       "      <td>Allen Raymond</td>\n",
       "      <td>nulla.ante@vestibul.co.uk</td>\n",
       "      <td>(992) 914-3792</td>\n",
       "      <td>False</td>\n",
       "    </tr>\n",
       "    <tr>\n",
       "      <th>freq</th>\n",
       "      <td>1</td>\n",
       "      <td>1</td>\n",
       "      <td>1</td>\n",
       "      <td>3</td>\n",
       "    </tr>\n",
       "  </tbody>\n",
       "</table>\n",
       "</div>"
      ],
      "text/plain": [
       "                 name                      email           phone favorite\n",
       "count               5                          5               5        5\n",
       "unique              5                          5               5        2\n",
       "top     Allen Raymond  nulla.ante@vestibul.co.uk  (992) 914-3792    False\n",
       "freq                1                          1               1        3"
      ]
     },
     "execution_count": 95,
     "metadata": {},
     "output_type": "execute_result"
    }
   ],
   "source": [
    "df.describe()"
   ]
  },
  {
   "cell_type": "code",
   "execution_count": 96,
   "id": "9cec1770",
   "metadata": {},
   "outputs": [
    {
     "data": {
      "text/plain": [
       "0        nulla.ante@vestibul.co.uk\n",
       "1              dui.in@egetlacus.ca\n",
       "2    mattis.Cras@nonenimMauris.net\n",
       "3                est@utquamvel.net\n",
       "4           nibh@semsempererat.com\n",
       "Name: email, dtype: object"
      ]
     },
     "execution_count": 96,
     "metadata": {},
     "output_type": "execute_result"
    }
   ],
   "source": [
    "df[\"email\"]"
   ]
  },
  {
   "cell_type": "code",
   "execution_count": 97,
   "id": "b8c8a838",
   "metadata": {},
   "outputs": [
    {
     "data": {
      "text/html": [
       "<div>\n",
       "<style scoped>\n",
       "    .dataframe tbody tr th:only-of-type {\n",
       "        vertical-align: middle;\n",
       "    }\n",
       "\n",
       "    .dataframe tbody tr th {\n",
       "        vertical-align: top;\n",
       "    }\n",
       "\n",
       "    .dataframe thead th {\n",
       "        text-align: right;\n",
       "    }\n",
       "</style>\n",
       "<table border=\"1\" class=\"dataframe\">\n",
       "  <thead>\n",
       "    <tr style=\"text-align: right;\">\n",
       "      <th></th>\n",
       "      <th>name</th>\n",
       "      <th>email</th>\n",
       "      <th>phone</th>\n",
       "      <th>favorite</th>\n",
       "    </tr>\n",
       "  </thead>\n",
       "  <tbody>\n",
       "    <tr>\n",
       "      <th>0</th>\n",
       "      <td>Allen Raymond</td>\n",
       "      <td>nulla.ante@vestibul.co.uk</td>\n",
       "      <td>(992) 914-3792</td>\n",
       "      <td>False</td>\n",
       "    </tr>\n",
       "  </tbody>\n",
       "</table>\n",
       "</div>"
      ],
      "text/plain": [
       "            name                      email           phone  favorite\n",
       "0  Allen Raymond  nulla.ante@vestibul.co.uk  (992) 914-3792     False"
      ]
     },
     "execution_count": 97,
     "metadata": {},
     "output_type": "execute_result"
    }
   ],
   "source": [
    "df.loc[:0]"
   ]
  },
  {
   "cell_type": "code",
   "execution_count": 98,
   "id": "c4334bb5",
   "metadata": {},
   "outputs": [
    {
     "data": {
      "text/plain": [
       "array([False, False,  True, False,  True])"
      ]
     },
     "execution_count": 98,
     "metadata": {},
     "output_type": "execute_result"
    }
   ],
   "source": [
    "df.favorite.values"
   ]
  },
  {
   "cell_type": "code",
   "execution_count": 99,
   "id": "040dbd32",
   "metadata": {},
   "outputs": [
    {
     "data": {
      "text/plain": [
       "2"
      ]
     },
     "execution_count": 99,
     "metadata": {},
     "output_type": "execute_result"
    }
   ],
   "source": [
    "len(set(df.favorite.values))"
   ]
  },
  {
   "cell_type": "code",
   "execution_count": 100,
   "id": "e4f30fd8",
   "metadata": {},
   "outputs": [
    {
     "data": {
      "text/html": [
       "<div>\n",
       "<style scoped>\n",
       "    .dataframe tbody tr th:only-of-type {\n",
       "        vertical-align: middle;\n",
       "    }\n",
       "\n",
       "    .dataframe tbody tr th {\n",
       "        vertical-align: top;\n",
       "    }\n",
       "\n",
       "    .dataframe thead th {\n",
       "        text-align: right;\n",
       "    }\n",
       "</style>\n",
       "<table border=\"1\" class=\"dataframe\">\n",
       "  <thead>\n",
       "    <tr style=\"text-align: right;\">\n",
       "      <th></th>\n",
       "      <th>email</th>\n",
       "      <th>phone</th>\n",
       "      <th>favorite</th>\n",
       "    </tr>\n",
       "    <tr>\n",
       "      <th>name</th>\n",
       "      <th></th>\n",
       "      <th></th>\n",
       "      <th></th>\n",
       "    </tr>\n",
       "  </thead>\n",
       "  <tbody>\n",
       "    <tr>\n",
       "      <th>Allen Raymond</th>\n",
       "      <td>nulla.ante@vestibul.co.uk</td>\n",
       "      <td>(992) 914-3792</td>\n",
       "      <td>False</td>\n",
       "    </tr>\n",
       "    <tr>\n",
       "      <th>Chaim Lewis</th>\n",
       "      <td>dui.in@egetlacus.ca</td>\n",
       "      <td>(294) 840-6685</td>\n",
       "      <td>False</td>\n",
       "    </tr>\n",
       "    <tr>\n",
       "      <th>Kennedy Lane</th>\n",
       "      <td>mattis.Cras@nonenimMauris.net</td>\n",
       "      <td>(542) 451-7038</td>\n",
       "      <td>True</td>\n",
       "    </tr>\n",
       "    <tr>\n",
       "      <th>Wylie Pope</th>\n",
       "      <td>est@utquamvel.net</td>\n",
       "      <td>(692) 802-2949</td>\n",
       "      <td>False</td>\n",
       "    </tr>\n",
       "    <tr>\n",
       "      <th>Cyrus Jackson</th>\n",
       "      <td>nibh@semsempererat.com</td>\n",
       "      <td>(501) 472-5218</td>\n",
       "      <td>True</td>\n",
       "    </tr>\n",
       "  </tbody>\n",
       "</table>\n",
       "</div>"
      ],
      "text/plain": [
       "                                       email           phone  favorite\n",
       "name                                                                  \n",
       "Allen Raymond      nulla.ante@vestibul.co.uk  (992) 914-3792     False\n",
       "Chaim Lewis              dui.in@egetlacus.ca  (294) 840-6685     False\n",
       "Kennedy Lane   mattis.Cras@nonenimMauris.net  (542) 451-7038      True\n",
       "Wylie Pope                 est@utquamvel.net  (692) 802-2949     False\n",
       "Cyrus Jackson         nibh@semsempererat.com  (501) 472-5218      True"
      ]
     },
     "execution_count": 100,
     "metadata": {},
     "output_type": "execute_result"
    }
   ],
   "source": [
    "new_df2 = df.set_index(\"name\")\n",
    "new_df2"
   ]
  },
  {
   "cell_type": "code",
   "execution_count": 101,
   "id": "8717e362",
   "metadata": {},
   "outputs": [
    {
     "data": {
      "text/plain": [
       "email       dui.in@egetlacus.ca\n",
       "phone            (294) 840-6685\n",
       "favorite                  False\n",
       "Name: Chaim Lewis, dtype: object"
      ]
     },
     "execution_count": 101,
     "metadata": {},
     "output_type": "execute_result"
    }
   ],
   "source": [
    "# new_df2.loc[0] = KeyError\n",
    "new_df2.loc[\"Chaim Lewis\"]"
   ]
  },
  {
   "cell_type": "code",
   "execution_count": 102,
   "id": "9cd099fb",
   "metadata": {},
   "outputs": [
    {
     "data": {
      "text/plain": [
       "email       nulla.ante@vestibul.co.uk\n",
       "phone                  (992) 914-3792\n",
       "favorite                        False\n",
       "Name: Allen Raymond, dtype: object"
      ]
     },
     "execution_count": 102,
     "metadata": {},
     "output_type": "execute_result"
    }
   ],
   "source": [
    "new_df2.iloc[0]"
   ]
  },
  {
   "cell_type": "markdown",
   "id": "92bdb480",
   "metadata": {},
   "source": [
    "#### Subset"
   ]
  },
  {
   "cell_type": "code",
   "execution_count": 103,
   "id": "960a925d",
   "metadata": {},
   "outputs": [
    {
     "data": {
      "text/plain": [
       "Index(['name', 'email', 'phone', 'favorite'], dtype='object')"
      ]
     },
     "execution_count": 103,
     "metadata": {},
     "output_type": "execute_result"
    }
   ],
   "source": [
    "df.columns"
   ]
  },
  {
   "cell_type": "code",
   "execution_count": 104,
   "id": "c83f6a96",
   "metadata": {},
   "outputs": [
    {
     "data": {
      "text/html": [
       "<div>\n",
       "<style scoped>\n",
       "    .dataframe tbody tr th:only-of-type {\n",
       "        vertical-align: middle;\n",
       "    }\n",
       "\n",
       "    .dataframe tbody tr th {\n",
       "        vertical-align: top;\n",
       "    }\n",
       "\n",
       "    .dataframe thead th {\n",
       "        text-align: right;\n",
       "    }\n",
       "</style>\n",
       "<table border=\"1\" class=\"dataframe\">\n",
       "  <thead>\n",
       "    <tr style=\"text-align: right;\">\n",
       "      <th></th>\n",
       "      <th>name</th>\n",
       "      <th>phone</th>\n",
       "      <th>favorite</th>\n",
       "    </tr>\n",
       "  </thead>\n",
       "  <tbody>\n",
       "    <tr>\n",
       "      <th>0</th>\n",
       "      <td>Allen Raymond</td>\n",
       "      <td>(992) 914-3792</td>\n",
       "      <td>False</td>\n",
       "    </tr>\n",
       "    <tr>\n",
       "      <th>1</th>\n",
       "      <td>Chaim Lewis</td>\n",
       "      <td>(294) 840-6685</td>\n",
       "      <td>False</td>\n",
       "    </tr>\n",
       "    <tr>\n",
       "      <th>2</th>\n",
       "      <td>Kennedy Lane</td>\n",
       "      <td>(542) 451-7038</td>\n",
       "      <td>True</td>\n",
       "    </tr>\n",
       "    <tr>\n",
       "      <th>3</th>\n",
       "      <td>Wylie Pope</td>\n",
       "      <td>(692) 802-2949</td>\n",
       "      <td>False</td>\n",
       "    </tr>\n",
       "    <tr>\n",
       "      <th>4</th>\n",
       "      <td>Cyrus Jackson</td>\n",
       "      <td>(501) 472-5218</td>\n",
       "      <td>True</td>\n",
       "    </tr>\n",
       "  </tbody>\n",
       "</table>\n",
       "</div>"
      ],
      "text/plain": [
       "            name           phone  favorite\n",
       "0  Allen Raymond  (992) 914-3792     False\n",
       "1    Chaim Lewis  (294) 840-6685     False\n",
       "2   Kennedy Lane  (542) 451-7038      True\n",
       "3     Wylie Pope  (692) 802-2949     False\n",
       "4  Cyrus Jackson  (501) 472-5218      True"
      ]
     },
     "execution_count": 104,
     "metadata": {},
     "output_type": "execute_result"
    }
   ],
   "source": [
    "new_df3 = df[['name', 'phone', 'favorite']]\n",
    "new_df3"
   ]
  },
  {
   "cell_type": "code",
   "execution_count": 105,
   "id": "e0ebb142",
   "metadata": {},
   "outputs": [
    {
     "data": {
      "text/plain": [
       "0    False\n",
       "1    False\n",
       "2     True\n",
       "3    False\n",
       "4     True\n",
       "Name: favorite, dtype: bool"
      ]
     },
     "execution_count": 105,
     "metadata": {},
     "output_type": "execute_result"
    }
   ],
   "source": [
    "new_df3[\"favorite\"] == True"
   ]
  },
  {
   "cell_type": "code",
   "execution_count": 106,
   "id": "af8c1864",
   "metadata": {},
   "outputs": [
    {
     "data": {
      "text/html": [
       "<div>\n",
       "<style scoped>\n",
       "    .dataframe tbody tr th:only-of-type {\n",
       "        vertical-align: middle;\n",
       "    }\n",
       "\n",
       "    .dataframe tbody tr th {\n",
       "        vertical-align: top;\n",
       "    }\n",
       "\n",
       "    .dataframe thead th {\n",
       "        text-align: right;\n",
       "    }\n",
       "</style>\n",
       "<table border=\"1\" class=\"dataframe\">\n",
       "  <thead>\n",
       "    <tr style=\"text-align: right;\">\n",
       "      <th></th>\n",
       "      <th>name</th>\n",
       "      <th>phone</th>\n",
       "      <th>favorite</th>\n",
       "    </tr>\n",
       "  </thead>\n",
       "  <tbody>\n",
       "    <tr>\n",
       "      <th>2</th>\n",
       "      <td>Kennedy Lane</td>\n",
       "      <td>(542) 451-7038</td>\n",
       "      <td>True</td>\n",
       "    </tr>\n",
       "    <tr>\n",
       "      <th>4</th>\n",
       "      <td>Cyrus Jackson</td>\n",
       "      <td>(501) 472-5218</td>\n",
       "      <td>True</td>\n",
       "    </tr>\n",
       "  </tbody>\n",
       "</table>\n",
       "</div>"
      ],
      "text/plain": [
       "            name           phone  favorite\n",
       "2   Kennedy Lane  (542) 451-7038      True\n",
       "4  Cyrus Jackson  (501) 472-5218      True"
      ]
     },
     "execution_count": 106,
     "metadata": {},
     "output_type": "execute_result"
    }
   ],
   "source": [
    "new_df3.loc[new_df3[\"favorite\"] == True]"
   ]
  },
  {
   "cell_type": "code",
   "execution_count": 107,
   "id": "a8dc4885",
   "metadata": {},
   "outputs": [
    {
     "data": {
      "text/html": [
       "<div>\n",
       "<style scoped>\n",
       "    .dataframe tbody tr th:only-of-type {\n",
       "        vertical-align: middle;\n",
       "    }\n",
       "\n",
       "    .dataframe tbody tr th {\n",
       "        vertical-align: top;\n",
       "    }\n",
       "\n",
       "    .dataframe thead th {\n",
       "        text-align: right;\n",
       "    }\n",
       "</style>\n",
       "<table border=\"1\" class=\"dataframe\">\n",
       "  <thead>\n",
       "    <tr style=\"text-align: right;\">\n",
       "      <th></th>\n",
       "      <th>name</th>\n",
       "      <th>phone</th>\n",
       "      <th>favorite</th>\n",
       "    </tr>\n",
       "  </thead>\n",
       "  <tbody>\n",
       "    <tr>\n",
       "      <th>2</th>\n",
       "      <td>Kennedy Lane</td>\n",
       "      <td>(542) 451-7038</td>\n",
       "      <td>True</td>\n",
       "    </tr>\n",
       "    <tr>\n",
       "      <th>4</th>\n",
       "      <td>Cyrus Jackson</td>\n",
       "      <td>(501) 472-5218</td>\n",
       "      <td>True</td>\n",
       "    </tr>\n",
       "  </tbody>\n",
       "</table>\n",
       "</div>"
      ],
      "text/plain": [
       "            name           phone  favorite\n",
       "2   Kennedy Lane  (542) 451-7038      True\n",
       "4  Cyrus Jackson  (501) 472-5218      True"
      ]
     },
     "execution_count": 107,
     "metadata": {},
     "output_type": "execute_result"
    }
   ],
   "source": [
    "new_df4 = new_df3.loc[new_df3[\"favorite\"] == True]\n",
    "new_df4 # subset 1"
   ]
  },
  {
   "cell_type": "code",
   "execution_count": 108,
   "id": "fc183aed",
   "metadata": {},
   "outputs": [
    {
     "data": {
      "text/html": [
       "<div>\n",
       "<style scoped>\n",
       "    .dataframe tbody tr th:only-of-type {\n",
       "        vertical-align: middle;\n",
       "    }\n",
       "\n",
       "    .dataframe tbody tr th {\n",
       "        vertical-align: top;\n",
       "    }\n",
       "\n",
       "    .dataframe thead th {\n",
       "        text-align: right;\n",
       "    }\n",
       "</style>\n",
       "<table border=\"1\" class=\"dataframe\">\n",
       "  <thead>\n",
       "    <tr style=\"text-align: right;\">\n",
       "      <th></th>\n",
       "      <th>name</th>\n",
       "      <th>email</th>\n",
       "      <th>phone</th>\n",
       "      <th>favorite</th>\n",
       "    </tr>\n",
       "  </thead>\n",
       "  <tbody>\n",
       "    <tr>\n",
       "      <th>2</th>\n",
       "      <td>Kennedy Lane</td>\n",
       "      <td>mattis.Cras@nonenimMauris.net</td>\n",
       "      <td>(542) 451-7038</td>\n",
       "      <td>True</td>\n",
       "    </tr>\n",
       "    <tr>\n",
       "      <th>4</th>\n",
       "      <td>Cyrus Jackson</td>\n",
       "      <td>nibh@semsempererat.com</td>\n",
       "      <td>(501) 472-5218</td>\n",
       "      <td>True</td>\n",
       "    </tr>\n",
       "  </tbody>\n",
       "</table>\n",
       "</div>"
      ],
      "text/plain": [
       "            name                          email           phone  favorite\n",
       "2   Kennedy Lane  mattis.Cras@nonenimMauris.net  (542) 451-7038      True\n",
       "4  Cyrus Jackson         nibh@semsempererat.com  (501) 472-5218      True"
      ]
     },
     "execution_count": 108,
     "metadata": {},
     "output_type": "execute_result"
    }
   ],
   "source": [
    "new_df5 = df.query(\"favorite == True\")\n",
    "new_df5 # subset 2"
   ]
  },
  {
   "cell_type": "markdown",
   "id": "c66ff170",
   "metadata": {},
   "source": [
    "#### Check NaNs"
   ]
  },
  {
   "cell_type": "code",
   "execution_count": 109,
   "id": "dd4b0711",
   "metadata": {},
   "outputs": [
    {
     "data": {
      "text/plain": [
       "2    False\n",
       "4    False\n",
       "Name: favorite, dtype: bool"
      ]
     },
     "execution_count": 109,
     "metadata": {},
     "output_type": "execute_result"
    }
   ],
   "source": [
    "new_df5[\"favorite\"].isna()"
   ]
  },
  {
   "cell_type": "code",
   "execution_count": 110,
   "id": "05babba7",
   "metadata": {},
   "outputs": [
    {
     "data": {
      "text/plain": [
       "0    False\n",
       "1    False\n",
       "2    False\n",
       "3    False\n",
       "4    False\n",
       "Name: favorite, dtype: bool"
      ]
     },
     "execution_count": 110,
     "metadata": {},
     "output_type": "execute_result"
    }
   ],
   "source": [
    "df[\"favorite\"].isna()"
   ]
  },
  {
   "cell_type": "code",
   "execution_count": 111,
   "id": "13915a33",
   "metadata": {},
   "outputs": [
    {
     "data": {
      "text/plain": [
       "0    True\n",
       "1    True\n",
       "2    True\n",
       "3    True\n",
       "4    True\n",
       "Name: favorite, dtype: bool"
      ]
     },
     "execution_count": 111,
     "metadata": {},
     "output_type": "execute_result"
    }
   ],
   "source": [
    "~df[\"favorite\"].isna()\n",
    "# checks not (~) NaNs "
   ]
  },
  {
   "cell_type": "code",
   "execution_count": 112,
   "id": "93dc2dc0",
   "metadata": {},
   "outputs": [
    {
     "data": {
      "text/html": [
       "<div>\n",
       "<style scoped>\n",
       "    .dataframe tbody tr th:only-of-type {\n",
       "        vertical-align: middle;\n",
       "    }\n",
       "\n",
       "    .dataframe tbody tr th {\n",
       "        vertical-align: top;\n",
       "    }\n",
       "\n",
       "    .dataframe thead th {\n",
       "        text-align: right;\n",
       "    }\n",
       "</style>\n",
       "<table border=\"1\" class=\"dataframe\">\n",
       "  <thead>\n",
       "    <tr style=\"text-align: right;\">\n",
       "      <th></th>\n",
       "      <th>name</th>\n",
       "      <th>email</th>\n",
       "      <th>phone</th>\n",
       "      <th>favorite</th>\n",
       "    </tr>\n",
       "  </thead>\n",
       "  <tbody>\n",
       "  </tbody>\n",
       "</table>\n",
       "</div>"
      ],
      "text/plain": [
       "Empty DataFrame\n",
       "Columns: [name, email, phone, favorite]\n",
       "Index: []"
      ]
     },
     "execution_count": 112,
     "metadata": {},
     "output_type": "execute_result"
    }
   ],
   "source": [
    "df.loc[df[\"favorite\"].isna()] # returns row(s) with NaN"
   ]
  },
  {
   "cell_type": "code",
   "execution_count": null,
   "id": "dcbbcb54",
   "metadata": {},
   "outputs": [],
   "source": [
    "new_df5 = new_df5.loc[~new_df5[\"name\"].isna()]\n",
    "new_df5[\"name\"] = new_df5[\"name\"].astype(\"str\") # ???"
   ]
  },
  {
   "cell_type": "code",
   "execution_count": 114,
   "id": "4ff0acaa",
   "metadata": {},
   "outputs": [
    {
     "data": {
      "text/plain": [
       "name        object\n",
       "email       object\n",
       "phone       object\n",
       "favorite      bool\n",
       "dtype: object"
      ]
     },
     "execution_count": 114,
     "metadata": {},
     "output_type": "execute_result"
    }
   ],
   "source": [
    "new_df5.dtypes"
   ]
  },
  {
   "cell_type": "code",
   "execution_count": null,
   "id": "c48f8fe4",
   "metadata": {},
   "outputs": [],
   "source": [
    "df[\"email\"] = df[\"email\"].astype(\"str\") # ???"
   ]
  },
  {
   "cell_type": "code",
   "execution_count": 118,
   "id": "4b7fc019",
   "metadata": {},
   "outputs": [
    {
     "data": {
      "text/plain": [
       "name        object\n",
       "email       object\n",
       "phone       object\n",
       "favorite      bool\n",
       "dtype: object"
      ]
     },
     "execution_count": 118,
     "metadata": {},
     "output_type": "execute_result"
    }
   ],
   "source": [
    "df.dtypes"
   ]
  },
  {
   "cell_type": "code",
   "execution_count": null,
   "id": "4cfa7b08",
   "metadata": {},
   "outputs": [],
   "source": [
    "# df[\"time_column\"] = pd.to_datetime(df.time_column)"
   ]
  },
  {
   "cell_type": "markdown",
   "id": "c02430ee",
   "metadata": {},
   "source": [
    "#### New column creation"
   ]
  },
  {
   "cell_type": "code",
   "execution_count": 119,
   "id": "e9082233",
   "metadata": {},
   "outputs": [
    {
     "data": {
      "text/html": [
       "<div>\n",
       "<style scoped>\n",
       "    .dataframe tbody tr th:only-of-type {\n",
       "        vertical-align: middle;\n",
       "    }\n",
       "\n",
       "    .dataframe tbody tr th {\n",
       "        vertical-align: top;\n",
       "    }\n",
       "\n",
       "    .dataframe thead th {\n",
       "        text-align: right;\n",
       "    }\n",
       "</style>\n",
       "<table border=\"1\" class=\"dataframe\">\n",
       "  <thead>\n",
       "    <tr style=\"text-align: right;\">\n",
       "      <th></th>\n",
       "      <th>name</th>\n",
       "      <th>email</th>\n",
       "      <th>phone</th>\n",
       "      <th>favorite</th>\n",
       "    </tr>\n",
       "  </thead>\n",
       "  <tbody>\n",
       "    <tr>\n",
       "      <th>0</th>\n",
       "      <td>Allen Raymond</td>\n",
       "      <td>nulla.ante@vestibul.co.uk</td>\n",
       "      <td>(992) 914-3792</td>\n",
       "      <td>False</td>\n",
       "    </tr>\n",
       "    <tr>\n",
       "      <th>1</th>\n",
       "      <td>Chaim Lewis</td>\n",
       "      <td>dui.in@egetlacus.ca</td>\n",
       "      <td>(294) 840-6685</td>\n",
       "      <td>False</td>\n",
       "    </tr>\n",
       "    <tr>\n",
       "      <th>2</th>\n",
       "      <td>Kennedy Lane</td>\n",
       "      <td>mattis.Cras@nonenimMauris.net</td>\n",
       "      <td>(542) 451-7038</td>\n",
       "      <td>True</td>\n",
       "    </tr>\n",
       "    <tr>\n",
       "      <th>3</th>\n",
       "      <td>Wylie Pope</td>\n",
       "      <td>est@utquamvel.net</td>\n",
       "      <td>(692) 802-2949</td>\n",
       "      <td>False</td>\n",
       "    </tr>\n",
       "    <tr>\n",
       "      <th>4</th>\n",
       "      <td>Cyrus Jackson</td>\n",
       "      <td>nibh@semsempererat.com</td>\n",
       "      <td>(501) 472-5218</td>\n",
       "      <td>True</td>\n",
       "    </tr>\n",
       "  </tbody>\n",
       "</table>\n",
       "</div>"
      ],
      "text/plain": [
       "            name                          email           phone  favorite\n",
       "0  Allen Raymond      nulla.ante@vestibul.co.uk  (992) 914-3792     False\n",
       "1    Chaim Lewis            dui.in@egetlacus.ca  (294) 840-6685     False\n",
       "2   Kennedy Lane  mattis.Cras@nonenimMauris.net  (542) 451-7038      True\n",
       "3     Wylie Pope              est@utquamvel.net  (692) 802-2949     False\n",
       "4  Cyrus Jackson         nibh@semsempererat.com  (501) 472-5218      True"
      ]
     },
     "execution_count": 119,
     "metadata": {},
     "output_type": "execute_result"
    }
   ],
   "source": [
    "df"
   ]
  },
  {
   "cell_type": "code",
   "execution_count": null,
   "id": "97294e6d",
   "metadata": {},
   "outputs": [],
   "source": [
    "# df[\"Likes_vs_Views\"] = df[\"LikeCount\"] / df[\"viewCount\"]\n",
    "# df"
   ]
  },
  {
   "cell_type": "markdown",
   "id": "a3cef040",
   "metadata": {},
   "source": [
    "#### New row addition"
   ]
  },
  {
   "cell_type": "code",
   "execution_count": 120,
   "id": "3ab690c9",
   "metadata": {},
   "outputs": [
    {
     "data": {
      "text/html": [
       "<div>\n",
       "<style scoped>\n",
       "    .dataframe tbody tr th:only-of-type {\n",
       "        vertical-align: middle;\n",
       "    }\n",
       "\n",
       "    .dataframe tbody tr th {\n",
       "        vertical-align: top;\n",
       "    }\n",
       "\n",
       "    .dataframe thead th {\n",
       "        text-align: right;\n",
       "    }\n",
       "</style>\n",
       "<table border=\"1\" class=\"dataframe\">\n",
       "  <thead>\n",
       "    <tr style=\"text-align: right;\">\n",
       "      <th></th>\n",
       "      <th>name</th>\n",
       "      <th>email</th>\n",
       "      <th>phone</th>\n",
       "      <th>favorite</th>\n",
       "    </tr>\n",
       "  </thead>\n",
       "  <tbody>\n",
       "    <tr>\n",
       "      <th>3</th>\n",
       "      <td>Wylie Pope</td>\n",
       "      <td>est@utquamvel.net</td>\n",
       "      <td>(692) 802-2949</td>\n",
       "      <td>False</td>\n",
       "    </tr>\n",
       "  </tbody>\n",
       "</table>\n",
       "</div>"
      ],
      "text/plain": [
       "         name              email           phone  favorite\n",
       "3  Wylie Pope  est@utquamvel.net  (692) 802-2949     False"
      ]
     },
     "execution_count": 120,
     "metadata": {},
     "output_type": "execute_result"
    }
   ],
   "source": [
    "df_row = df.iloc[3:4]\n",
    "df_row"
   ]
  },
  {
   "cell_type": "code",
   "execution_count": 121,
   "id": "64a28eb7",
   "metadata": {},
   "outputs": [
    {
     "data": {
      "text/html": [
       "<div>\n",
       "<style scoped>\n",
       "    .dataframe tbody tr th:only-of-type {\n",
       "        vertical-align: middle;\n",
       "    }\n",
       "\n",
       "    .dataframe tbody tr th {\n",
       "        vertical-align: top;\n",
       "    }\n",
       "\n",
       "    .dataframe thead th {\n",
       "        text-align: right;\n",
       "    }\n",
       "</style>\n",
       "<table border=\"1\" class=\"dataframe\">\n",
       "  <thead>\n",
       "    <tr style=\"text-align: right;\">\n",
       "      <th></th>\n",
       "      <th>name</th>\n",
       "      <th>email</th>\n",
       "      <th>phone</th>\n",
       "      <th>favorite</th>\n",
       "    </tr>\n",
       "  </thead>\n",
       "  <tbody>\n",
       "    <tr>\n",
       "      <th>0</th>\n",
       "      <td>Allen Raymond</td>\n",
       "      <td>nulla.ante@vestibul.co.uk</td>\n",
       "      <td>(992) 914-3792</td>\n",
       "      <td>False</td>\n",
       "    </tr>\n",
       "    <tr>\n",
       "      <th>1</th>\n",
       "      <td>Chaim Lewis</td>\n",
       "      <td>dui.in@egetlacus.ca</td>\n",
       "      <td>(294) 840-6685</td>\n",
       "      <td>False</td>\n",
       "    </tr>\n",
       "    <tr>\n",
       "      <th>2</th>\n",
       "      <td>Kennedy Lane</td>\n",
       "      <td>mattis.Cras@nonenimMauris.net</td>\n",
       "      <td>(542) 451-7038</td>\n",
       "      <td>True</td>\n",
       "    </tr>\n",
       "    <tr>\n",
       "      <th>3</th>\n",
       "      <td>Wylie Pope</td>\n",
       "      <td>est@utquamvel.net</td>\n",
       "      <td>(692) 802-2949</td>\n",
       "      <td>False</td>\n",
       "    </tr>\n",
       "    <tr>\n",
       "      <th>4</th>\n",
       "      <td>Cyrus Jackson</td>\n",
       "      <td>nibh@semsempererat.com</td>\n",
       "      <td>(501) 472-5218</td>\n",
       "      <td>True</td>\n",
       "    </tr>\n",
       "    <tr>\n",
       "      <th>3</th>\n",
       "      <td>Wylie Pope</td>\n",
       "      <td>est@utquamvel.net</td>\n",
       "      <td>(692) 802-2949</td>\n",
       "      <td>False</td>\n",
       "    </tr>\n",
       "  </tbody>\n",
       "</table>\n",
       "</div>"
      ],
      "text/plain": [
       "            name                          email           phone  favorite\n",
       "0  Allen Raymond      nulla.ante@vestibul.co.uk  (992) 914-3792     False\n",
       "1    Chaim Lewis            dui.in@egetlacus.ca  (294) 840-6685     False\n",
       "2   Kennedy Lane  mattis.Cras@nonenimMauris.net  (542) 451-7038      True\n",
       "3     Wylie Pope              est@utquamvel.net  (692) 802-2949     False\n",
       "4  Cyrus Jackson         nibh@semsempererat.com  (501) 472-5218      True\n",
       "3     Wylie Pope              est@utquamvel.net  (692) 802-2949     False"
      ]
     },
     "execution_count": 121,
     "metadata": {},
     "output_type": "execute_result"
    }
   ],
   "source": [
    "df7 = pd.concat([df, df_row])\n",
    "df7"
   ]
  }
 ],
 "metadata": {
  "kernelspec": {
   "display_name": "Python 3",
   "language": "python",
   "name": "python3"
  },
  "language_info": {
   "codemirror_mode": {
    "name": "ipython",
    "version": 3
   },
   "file_extension": ".py",
   "mimetype": "text/x-python",
   "name": "python",
   "nbconvert_exporter": "python",
   "pygments_lexer": "ipython3",
   "version": "3.12.4"
  }
 },
 "nbformat": 4,
 "nbformat_minor": 5
}
