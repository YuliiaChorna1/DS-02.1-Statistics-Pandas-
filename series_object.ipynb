{
 "cells": [
  {
   "cell_type": "markdown",
   "metadata": {},
   "source": [
    "### Об'єкт Series"
   ]
  },
  {
   "cell_type": "code",
   "execution_count": 4,
   "metadata": {},
   "outputs": [],
   "source": [
    "import pandas as pd"
   ]
  },
  {
   "cell_type": "code",
   "execution_count": 5,
   "metadata": {},
   "outputs": [
    {
     "name": "stdout",
     "output_type": "stream",
     "text": [
      "0    2061.0\n",
      "1    2035.8\n",
      "2    2028.5\n",
      "3    2022.5\n",
      "4    2016.4\n",
      "dtype: float64\n"
     ]
    }
   ],
   "source": [
    "mountain_height = pd.Series([2061, 2035.8, 2028.5, 2022.5, 2016.4])\n",
    "print(mountain_height)"
   ]
  },
  {
   "cell_type": "markdown",
   "metadata": {},
   "source": [
    "можемо вказати явну індексацію елементів, передаючи послідовність як аргумент index, або коли створюємо об'єкт Series зі словника:"
   ]
  },
  {
   "cell_type": "code",
   "execution_count": 6,
   "metadata": {},
   "outputs": [
    {
     "name": "stdout",
     "output_type": "stream",
     "text": [
      "Goverla           2061.0\n",
      "Brebenskyl        2035.8\n",
      "Pip_Ivan          2028.5\n",
      "Petros            2022.5\n",
      "Gutin_Tomnatik    2016.4\n",
      "Name: Height, m, dtype: float64\n"
     ]
    }
   ],
   "source": [
    "mountains_height = pd.Series(\n",
    "    data=[2061, 2035.8, 2028.5, 2022.5, 2016.4],\n",
    "    index=[\"Goverla\", \"Brebenskyl\", \"Pip_Ivan\", \"Petros\", \"Gutin_Tomnatik\"],\n",
    "    name=\"Height, m\",\n",
    "    dtype=float\n",
    ")\n",
    "\n",
    "print(mountains_height)"
   ]
  },
  {
   "cell_type": "markdown",
   "metadata": {},
   "source": [
    "Це дозволяє зручно посилатися на елементи послідовності Series з використанням міток індексу, замість цілих чисел, у тому числі і на окремі елементи послідовності. Або уявити елементи в іншому порядку:"
   ]
  },
  {
   "cell_type": "code",
   "execution_count": 7,
   "metadata": {},
   "outputs": [
    {
     "name": "stdout",
     "output_type": "stream",
     "text": [
      "2061.0\n",
      "2061.0\n",
      "Pip_Ivan          2028.5\n",
      "Goverla           2061.0\n",
      "Gutin_Tomnatik    2016.4\n",
      "Name: Height, m, dtype: float64\n"
     ]
    },
    {
     "name": "stderr",
     "output_type": "stream",
     "text": [
      "C:\\Users\\yulic\\AppData\\Local\\Temp\\ipykernel_330128\\4140045682.py:1: FutureWarning: Series.__getitem__ treating keys as positions is deprecated. In a future version, integer keys will always be treated as labels (consistent with DataFrame behavior). To access a value by position, use `ser.iloc[pos]`\n",
      "  print(mountains_height[0]) # 2061.0\n"
     ]
    }
   ],
   "source": [
    "print(mountains_height[0]) # 2061.0\n",
    "print(mountains_height[\"Goverla\"]) # 2061.0\n",
    "print(mountains_height[[\"Pip_Ivan\", \"Goverla\", \"Gutin_Tomnatik\"]])"
   ]
  },
  {
   "cell_type": "markdown",
   "metadata": {},
   "source": [
    "Вирізання елементів у стилі Python працює. \n",
    "\n",
    "Можливо навіть використання нотації, схожої на стиль вирізання, але в цьому випадку зазначений кінцевий елемент включається в групу, що вирізається:"
   ]
  },
  {
   "cell_type": "code",
   "execution_count": 13,
   "metadata": {},
   "outputs": [
    {
     "name": "stdout",
     "output_type": "stream",
     "text": [
      "Brebenskyl    2035.8\n",
      "Pip_Ivan      2028.5\n",
      "Name: Height, m, dtype: float64\n",
      "Brebenskyl    2035.8\n",
      "Pip_Ivan      2028.5\n",
      "Petros        2022.5\n",
      "Name: Height, m, dtype: float64\n",
      "2022.5\n",
      "2035.8\n"
     ]
    }
   ],
   "source": [
    "mountains_height = pd.Series(\n",
    "    data=[2061, 2035.8, 2028.5, 2022.5, 2016.4],\n",
    "    index=[\"Goverla\", \"Brebenskyl\", \"Pip_Ivan\", \"Petros\", \"Gutin_Tomnatik\"],\n",
    "    name=\"Height, m\",\n",
    "    dtype=float,\n",
    ")\n",
    "\n",
    "print(mountains_height[1:3])\n",
    "print(mountains_height[\"Brebenskyl\":\"Petros\"])\n",
    "\n",
    "print(mountains_height.Petros)  # 2022.5\n",
    "print(mountains_height.Brebenskyl)  # 2035.8"
   ]
  },
  {
   "cell_type": "markdown",
   "metadata": {},
   "source": [
    "Можливе виконання числових операцій з даними Series з використанням векторизації, як і для масивів NumPy.\n",
    "\n",
    "Операції порівняння та фільтрації об'єкта Series за допомогою логічних операцій створюють новий об'єкт Series"
   ]
  },
  {
   "cell_type": "code",
   "execution_count": 11,
   "metadata": {},
   "outputs": [
    {
     "name": "stdout",
     "output_type": "stream",
     "text": [
      "Goverla            True\n",
      "Brebenskyl         True\n",
      "Pip_Ivan          False\n",
      "Petros            False\n",
      "Gutin_Tomnatik    False\n",
      "Name: Height, m, dtype: bool\n",
      "Goverla       2061.0\n",
      "Brebenskyl    2035.8\n",
      "Name: Height, m, dtype: float64\n"
     ]
    }
   ],
   "source": [
    "print(mountains_height > 2030)\n",
    "print(mountains_height[mountains_height > 2030])"
   ]
  },
  {
   "cell_type": "markdown",
   "metadata": {},
   "source": [
    "Операції перевірки на існування елемента в Series використовують індекс, а не значення:"
   ]
  },
  {
   "cell_type": "code",
   "execution_count": 12,
   "metadata": {},
   "outputs": [
    {
     "name": "stdout",
     "output_type": "stream",
     "text": [
      "True\n"
     ]
    }
   ],
   "source": [
    "print(\"Goverla\" in mountains_height)  # True"
   ]
  },
  {
   "cell_type": "markdown",
   "metadata": {},
   "source": [
    "Сортування виконується за індексом або за значеннями, дивлячись, що необхідно для конкретного випадку. Використовуються методи Series.sort_index та Series.sort_values відповідно. Методи за замовчуванням повертають новий об'єкт Series, але за допомогою аргументу inplace=True можна оновити вихідний об'єкт. \n",
    "\n",
    "Аргумент ascending визначає порядок сортування за замовчуванням, містить значення True"
   ]
  },
  {
   "cell_type": "code",
   "execution_count": 16,
   "metadata": {},
   "outputs": [
    {
     "name": "stdout",
     "output_type": "stream",
     "text": [
      "Brebenskyl        2035.8\n",
      "Goverla           2061.0\n",
      "Gutin_Tomnatik    2016.4\n",
      "Petros            2022.5\n",
      "Pip_Ivan          2028.5\n",
      "Name: Height, m, dtype: float64\n",
      "Goverla           2061.0\n",
      "Brebenskyl        2035.8\n",
      "Pip_Ivan          2028.5\n",
      "Petros            2022.5\n",
      "Gutin_Tomnatik    2016.4\n",
      "Name: Height, m, dtype: float64\n"
     ]
    }
   ],
   "source": [
    "sort_index = mountains_height.sort_index()\n",
    "print(sort_index)\n",
    "\n",
    "mountains_height.sort_values(inplace=True, ascending=False)\n",
    "print(mountains_height)"
   ]
  },
  {
   "cell_type": "markdown",
   "metadata": {},
   "source": [
    "Елементи NaN (не число) в об'єкті Series можна замінити на задане значення, використовуючи метод fillna:"
   ]
  },
  {
   "cell_type": "code",
   "execution_count": 19,
   "metadata": {},
   "outputs": [
    {
     "name": "stdout",
     "output_type": "stream",
     "text": [
      "Goverla           2061.0\n",
      "Brebenskyl        2035.8\n",
      "Pip_Ivan          2028.5\n",
      "Petros               NaN\n",
      "Gutin_Tomnatik       NaN\n",
      "Name: Height, m, dtype: float64\n",
      "Goverla           2061.0\n",
      "Brebenskyl        2035.8\n",
      "Pip_Ivan          2028.5\n",
      "Petros               0.0\n",
      "Gutin_Tomnatik       0.0\n",
      "Name: Height, m, dtype: float64\n"
     ]
    }
   ],
   "source": [
    "mountains_height = pd.Series(\n",
    "    {\"Goverla\": 2061, \"Brebenskyl\": 2035.8, \"Pip_Ivan\": 2028.5},\n",
    "    index=[\"Goverla\", \"Brebenskyl\", \"Pip_Ivan\", \"Petros\", \"Gutin_Tomnatik\"],\n",
    "    name=\"Height, m\",\n",
    "    dtype=float,\n",
    ")\n",
    "\n",
    "print(mountains_height)\n",
    "\n",
    "mountains_height.fillna(0, inplace=True)\n",
    "\n",
    "print(mountains_height)"
   ]
  }
 ],
 "metadata": {
  "kernelspec": {
   "display_name": "Python 3",
   "language": "python",
   "name": "python3"
  },
  "language_info": {
   "codemirror_mode": {
    "name": "ipython",
    "version": 3
   },
   "file_extension": ".py",
   "mimetype": "text/x-python",
   "name": "python",
   "nbconvert_exporter": "python",
   "pygments_lexer": "ipython3",
   "version": "3.11.4"
  }
 },
 "nbformat": 4,
 "nbformat_minor": 2
}
