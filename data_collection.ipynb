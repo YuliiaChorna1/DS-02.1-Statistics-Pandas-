{
 "cells": [
  {
   "cell_type": "markdown",
   "metadata": {},
   "source": [
    "### Збір даних\n",
    "\n",
    "**read_html**\n",
    "\n",
    "метод можна використовувати для парсингу веб-сторінок з метою вилучення даних, що містяться в HTML-таблицях. Якщо таблиці правильно оформлені, то метод дозволяє достатньо ефективно виконувати необхідну роботу.\n",
    "\n",
    "Основні параметри:\n",
    "\n",
    "* *io* — URL або файловий об'єкт, з якого зчитується HTML-код для парсингу.\n",
    "* *match* — необов'язковий рядок для пошуку в таблиці, тобто обробляються і повертаються тільки таблиці, що містять цей рядок.\n",
    "* *header* — індексний рядок, який використовуватиметься для заголовків стовпців. За замовчуванням None – використовуються заголовки комірок у форматі HTML <*th*>, якщо вони присутні.\n",
    "* *attrs* — словник атрибутів HTML для визначення потрібної таблиці.\n",
    "* *thousands* — символ-роздільник, що використовується для поділу груп розрядів у великих числах (за замовчуванням кома).\n",
    "* *decimal* — символ, який використовується для позначення десяткової крапки (за замовчуванням крапка)"
   ]
  },
  {
   "cell_type": "code",
   "execution_count": 1,
   "metadata": {},
   "outputs": [],
   "source": [
    "import pandas as pd"
   ]
  },
  {
   "cell_type": "code",
   "execution_count": 5,
   "metadata": {},
   "outputs": [
    {
     "name": "stdout",
     "output_type": "stream",
     "text": [
      "   Apr 2024 Change Programming language    Share  Trends\n",
      "0         1    NaN               Python  28.43 %  +0.7 %\n",
      "1         2    NaN                 Java  16.04 %  -0.1 %\n",
      "2         3    NaN           JavaScript   8.72 %  -0.8 %\n",
      "3         4      ↑                C/C++   6.65 %  +0.2 %\n",
      "4         5      ↓                   C#   6.63 %  -0.2 %\n",
      "5         6      ↑                    R   4.63 %  +0.2 %\n",
      "6         7      ↓                  PHP   4.45 %  -0.7 %\n",
      "7         8    NaN           TypeScript   2.96 %  +0.0 %\n",
      "8         9    NaN                Swift   2.71 %  +0.4 %\n",
      "9        10    NaN                 Rust   2.53 %  +0.4 %\n"
     ]
    }
   ],
   "source": [
    "import pandas as pd\n",
    "\n",
    "tmp = pd.read_html(\"https://statisticstimes.com/tech/top-computer-languages.php\", attrs={\"id\": \"table_id1\"})\n",
    "\n",
    "print(tmp[0].head(10)) # default = 5 raws"
   ]
  }
 ],
 "metadata": {
  "kernelspec": {
   "display_name": "Python 3",
   "language": "python",
   "name": "python3"
  },
  "language_info": {
   "codemirror_mode": {
    "name": "ipython",
    "version": 3
   },
   "file_extension": ".py",
   "mimetype": "text/x-python",
   "name": "python",
   "nbconvert_exporter": "python",
   "pygments_lexer": "ipython3",
   "version": "3.11.4"
  }
 },
 "nbformat": 4,
 "nbformat_minor": 2
}
