{
 "cells": [
  {
   "cell_type": "markdown",
   "metadata": {},
   "source": [
    "### Додавання\n",
    "\n",
    "​Щоб додати дані до структури Series, потрібно вказати новий індекс для об'єкта та задати значення елементу:"
   ]
  },
  {
   "cell_type": "code",
   "execution_count": 1,
   "metadata": {},
   "outputs": [],
   "source": [
    "import pandas as pd"
   ]
  },
  {
   "cell_type": "code",
   "execution_count": 2,
   "metadata": {},
   "outputs": [
    {
     "name": "stdout",
     "output_type": "stream",
     "text": [
      "0    1\n",
      "1    2\n",
      "2    3\n",
      "3    4\n",
      "dtype: int64\n"
     ]
    }
   ],
   "source": [
    "data = pd.Series([1, 2, 3])\n",
    "data[3] = 4\n",
    "print(data)"
   ]
  },
  {
   "cell_type": "markdown",
   "metadata": {},
   "source": [
    "У DataFrame можна додавати як додаткові стовпці, так і цілі записи.\n",
    "\n",
    "Додавання стовпця:"
   ]
  },
  {
   "cell_type": "code",
   "execution_count": 5,
   "metadata": {},
   "outputs": [
    {
     "name": "stdout",
     "output_type": "stream",
     "text": [
      "      name    country  age\n",
      "1  Michael     Canada   25\n",
      "2     John        USA   32\n",
      "3     Liza  Australia   19\n"
     ]
    }
   ],
   "source": [
    "data = {\n",
    "    \"name\": {\"1\": \"Michael\", \"2\": \"John\", \"3\": \"Liza\"},\n",
    "    \"country\": {\"1\": \"Canada\", \"2\": \"USA\", \"3\": \"Australia\"}\n",
    "}\n",
    "\n",
    "employees = pd.DataFrame(data)\n",
    "employees[\"age\"] = [25, 32, 19]\n",
    "print(employees)"
   ]
  },
  {
   "cell_type": "markdown",
   "metadata": {},
   "source": [
    "Використовуючи метод ***concat***, можна об'єднати два об'єкти \n",
    "\n",
    "(було append - додати об'єкт Series як рядок)."
   ]
  },
  {
   "cell_type": "code",
   "execution_count": 24,
   "metadata": {},
   "outputs": [
    {
     "name": "stdout",
     "output_type": "stream",
     "text": [
      "      name    country  age\n",
      "0  Michael     Canada   25\n",
      "1     John        USA   32\n",
      "2     Liza  Australia   19\n",
      "3     John    Denmark   23\n"
     ]
    }
   ],
   "source": [
    "data = {\n",
    "    \"name\": {\"1\": \"Michael\", \"2\": \"John\", \"3\": \"Liza\"},\n",
    "    \"country\": {\"1\": \"Canada\", \"2\": \"USA\", \"3\": \"Australia\"},\n",
    "    \"age\": {\"1\": 25, \"2\": 32, \"3\": 19}\n",
    "}\n",
    "\n",
    "employees = pd.DataFrame(data)\n",
    "new_employee = {\"name\": \"John\", \"country\": \"Denmark\", \"age\": 23}\n",
    "new_employee_df = pd.DataFrame([new_employee])\n",
    "employees = pd.concat([employees, new_employee_df], ignore_index=True)\n",
    "\n",
    "print(employees)"
   ]
  }
 ],
 "metadata": {
  "kernelspec": {
   "display_name": "Python 3",
   "language": "python",
   "name": "python3"
  },
  "language_info": {
   "codemirror_mode": {
    "name": "ipython",
    "version": 3
   },
   "file_extension": ".py",
   "mimetype": "text/x-python",
   "name": "python",
   "nbconvert_exporter": "python",
   "pygments_lexer": "ipython3",
   "version": "3.11.4"
  }
 },
 "nbformat": 4,
 "nbformat_minor": 2
}
