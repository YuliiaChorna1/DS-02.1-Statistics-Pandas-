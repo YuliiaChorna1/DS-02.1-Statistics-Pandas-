{
 "cells": [
  {
   "cell_type": "markdown",
   "metadata": {},
   "source": [
    "### Часові ряди\n",
    "\n",
    "В pandas розрізняють *часові мітки* та *часові інтервали*.\n",
    "\n",
    "**Часова мітка** — це конкретне значення дати та часу, наприклад: 2021-09-10 3:39:05. \n",
    "\n",
    "**Часовий інтервал** передбачає наявність неповної часової мітки та маркера, який визначає період, наприклад мітка 2021-09 матиме маркер **M**, що означає — місяць. \n",
    "\n",
    "*DatetimeIndex* — це клас, що дозволяє зберігати масив часових міток.\n",
    "\n",
    "*PeriodIndex* - клас, що зберігає масив часових інтервалів.\n",
    "\n",
    "Для створення часової мітки можна скористатися конструктором *Timestamp*:"
   ]
  },
  {
   "cell_type": "code",
   "execution_count": 1,
   "metadata": {},
   "outputs": [],
   "source": [
    "import pandas as pd"
   ]
  },
  {
   "cell_type": "code",
   "execution_count": 2,
   "metadata": {},
   "outputs": [
    {
     "name": "stdout",
     "output_type": "stream",
     "text": [
      "2021-09-10 00:00:00\n"
     ]
    }
   ],
   "source": [
    "date = pd.Timestamp(\"2021-09-10\")\n",
    "print(date) # 2021-09-10 00:00:00"
   ]
  },
  {
   "cell_type": "markdown",
   "metadata": {},
   "source": [
    "Або для створення часової мітки можна скористатися методом *to_datetime*:"
   ]
  },
  {
   "cell_type": "code",
   "execution_count": 6,
   "metadata": {},
   "outputs": [
    {
     "name": "stdout",
     "output_type": "stream",
     "text": [
      "2021-09-10 00:00:00\n",
      "2021-09-10 02:54:13\n"
     ]
    }
   ],
   "source": [
    "date = pd.to_datetime(\"2021-09-10\")\n",
    "date1 = pd.to_datetime(\"2021-09-10 2:54:13\")\n",
    "print(date)\n",
    "print(date1)"
   ]
  },
  {
   "cell_type": "markdown",
   "metadata": {},
   "source": [
    "**Усі об'єкти класів можуть бути використані як індекси для структур даних pandas.**"
   ]
  },
  {
   "cell_type": "markdown",
   "metadata": {},
   "source": [
    "Наприклад, створимо *DatetimeIndex* — ряд часових міток з відсіченням в один день тривалістю вісім днів, змінна date. \n",
    "\n",
    "На основі отриманого об'єкту створимо структуру Series з денною температурою у місті Полтава у ці дні."
   ]
  },
  {
   "cell_type": "code",
   "execution_count": 7,
   "metadata": {},
   "outputs": [
    {
     "name": "stdout",
     "output_type": "stream",
     "text": [
      "2021-09-30    23\n",
      "2021-10-01    17\n",
      "2021-10-02    17\n",
      "2021-10-03    16\n",
      "2021-10-04    15\n",
      "2021-10-05    14\n",
      "2021-10-06    17\n",
      "2021-10-07    20\n",
      "Freq: D, dtype: int64\n"
     ]
    }
   ],
   "source": [
    "date = pd.date_range(start=\"2021-09-30\", freq=\"D\", periods=8)\n",
    "\n",
    "temperature = pd.Series([23, 17, 17, 16, 15, 14, 17, 20], index=date)\n",
    "\n",
    "print(temperature)"
   ]
  }
 ],
 "metadata": {
  "kernelspec": {
   "display_name": "Python 3",
   "language": "python",
   "name": "python3"
  },
  "language_info": {
   "codemirror_mode": {
    "name": "ipython",
    "version": 3
   },
   "file_extension": ".py",
   "mimetype": "text/x-python",
   "name": "python",
   "nbconvert_exporter": "python",
   "pygments_lexer": "ipython3",
   "version": "3.11.4"
  }
 },
 "nbformat": 4,
 "nbformat_minor": 2
}
