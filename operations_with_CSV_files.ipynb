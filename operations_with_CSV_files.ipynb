{
 "cells": [
  {
   "cell_type": "markdown",
   "metadata": {},
   "source": [
    "### Читання CSV \n",
    "\n",
    "**read_csv** \n",
    "\n",
    "можливі аргументи:\n",
    "\n",
    "* *filepath_or_buffer* — шлях. Обов'язковий параметр. локальний файл або URL (завантажування даних з мережі);\n",
    "* *sep* — роздільник стовпців. За замовчуванням кома , Але можна використовувати значення:\n",
    "    - */s+* для стовпців, розділених пробільними символами,\n",
    "    - *\\t* для роздільників-табуляцій\n",
    "    - *None*, щоб бібліотека pandas сама спробувала логічно визначити символ-роздільник.\n",
    "* *delimiter* — псевдонім для аргументу sep;\n",
    "* *header*  — номери рядків (індекси), які використовуються для імен стовпців. За замовчуванням header=0, що говорить про використання першого рядка для імен стовпців. Іноді у файлі немає заголовка, тоді потрібно присвоїти значення header=None і визначити імена стовпців в аргументі names;\n",
    "* *names* — послідовність неповторюваних імен стовпців, які використовуватимуться під час читання файлу;\n",
    "* *nrows* — кількість рядків, які зчитуються з файлу. Буває необхідно під час читання декількох рядків з дуже великого файлу для тестування або дослідження даних, що містяться в ньому;\n",
    "* *comment* — визначає символ, наприклад #, який при виявленні на початку рядка повідомляє про те, що весь рядок необхідно пропустити;\n",
    "* *skip_blank_lines* — за замовчуванням встановлено значення True – пропуск порожніх рядків у вхідному файлі. При встановленні значення False порожні рядки інтерпретуються як рядки із значень NaN;\n",
    "* *delim_whitespace* — можна встановити для цього аргумента значення True, замість визначення аргумента sep='\\s+', щоб встановити, що стовпці даних розділяються символами пробілів."
   ]
  },
  {
   "cell_type": "code",
   "execution_count": 3,
   "metadata": {},
   "outputs": [],
   "source": [
    "import pandas as pd"
   ]
  },
  {
   "cell_type": "code",
   "execution_count": 1,
   "metadata": {},
   "outputs": [
    {
     "name": "stdout",
     "output_type": "stream",
     "text": [
      "            name                          email           phone  favorite\n",
      "0  Allen Raymond      nulla.ante@vestibul.co.uk  (992) 914-3792     False\n",
      "1    Chaim Lewis            dui.in@egetlacus.ca  (294) 840-6685     False\n",
      "2   Kennedy Lane  mattis.Cras@nonenimMauris.net  (542) 451-7038      True\n",
      "3     Wylie Pope              est@utquamvel.net  (692) 802-2949     False\n",
      "4  Cyrus Jackson         nibh@semsempererat.com  (501) 472-5218      True\n"
     ]
    }
   ],
   "source": [
    "users = pd.read_csv(\"users.csv\")\n",
    "\n",
    "print(users)"
   ]
  },
  {
   "cell_type": "markdown",
   "metadata": {},
   "source": [
    "## Запис у CSV\n",
    "\n",
    "**to_csv**\n",
    "\n",
    "можливі аргументи:\n",
    "\n",
    "* *path_or_buf* — ім'я файлу;\n",
    "* *sep* — символ роздільник полів (за замовчуванням кома ',');\n",
    "* *na_rep* — рядок для заміни відсутніх даних (за замовчуванням порожній рядок);\n",
    "* *columns* — послідовність, що ідентифікує виведені стовпці;\n",
    "* *header* — за замовчуванням значення True, що означає, що імена стовпців повинні виводитися. Можна встановити значення False або список імен стовпців;\n",
    "* *index* — за замовчуванням значення True, що означає, що індекси повинні зберігатись;"
   ]
  },
  {
   "cell_type": "code",
   "execution_count": 4,
   "metadata": {},
   "outputs": [],
   "source": [
    "contacts = pd.DataFrame(\n",
    "    {\n",
    "        \"name\": [\n",
    "            \"Allen Raymond\",\n",
    "            \"Chaim Lewis\",\n",
    "            \"Kennedy Lane\",\n",
    "            \"Wylie Pope\",\n",
    "            \"Cyrus Jackson\",\n",
    "        ],\n",
    "        \"email\": [\n",
    "            \"nulla.ante@vestibul.co.uk\",\n",
    "            \"dui.in@egetlacus.ca\",\n",
    "            \"mattis.Cras@nonenimMauris.net\",\n",
    "            \"est@utquamvel.net\",\n",
    "            \"nibh@semsempererat.com\",\n",
    "        ],\n",
    "        \"phone\": [\n",
    "            \"(992) 914-3792\",\n",
    "            \"(294) 840-6685\",\n",
    "            \"(542) 451-7038\",\n",
    "            \"(692) 802-2949\",\n",
    "            \"(501) 472-5218\",\n",
    "        ],\n",
    "        \"favorite\": [False, False, True, False, True],\n",
    "    },\n",
    "    index=[1, 2, 3, 4, 5],\n",
    ")\n",
    "\n",
    "contacts.to_csv(\"data.csv\", index=False)"
   ]
  }
 ],
 "metadata": {
  "kernelspec": {
   "display_name": "Python 3",
   "language": "python",
   "name": "python3"
  },
  "language_info": {
   "codemirror_mode": {
    "name": "ipython",
    "version": 3
   },
   "file_extension": ".py",
   "mimetype": "text/x-python",
   "name": "python",
   "nbconvert_exporter": "python",
   "pygments_lexer": "ipython3",
   "version": "3.11.4"
  }
 },
 "nbformat": 4,
 "nbformat_minor": 2
}
